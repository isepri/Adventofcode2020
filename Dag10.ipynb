{
 "cells": [
  {
   "cell_type": "code",
   "execution_count": 1,
   "metadata": {},
   "outputs": [],
   "source": [
    "import itertools \n",
    "import numpy as np"
   ]
  },
  {
   "cell_type": "code",
   "execution_count": 2,
   "metadata": {},
   "outputs": [],
   "source": [
    "with open('input.txt') as t:\n",
    "    data = t.read().splitlines()\n",
    "adapters = list(map(int, data))"
   ]
  },
  {
   "cell_type": "markdown",
   "metadata": {},
   "source": [
    "**Deel 1**"
   ]
  },
  {
   "cell_type": "code",
   "execution_count": 3,
   "metadata": {},
   "outputs": [],
   "source": [
    "device = max(adapters) + 3\n",
    "adapters.extend((0, device))\n",
    "adapters.sort()"
   ]
  },
  {
   "cell_type": "code",
   "execution_count": 4,
   "metadata": {},
   "outputs": [
    {
     "name": "stdout",
     "output_type": "stream",
     "text": [
      "1-jolt differences: 67 * 3-jolt differences 28 = 1876\n"
     ]
    }
   ],
   "source": [
    "diff1 = 0\n",
    "diff3 = 0\n",
    "for i, v in enumerate(adapters):\n",
    "    if v == max(adapters):\n",
    "        print(f'1-jolt differences: {diff1} * 3-jolt differences {diff3} = {diff1*diff3}')\n",
    "        break\n",
    "    verschil = adapters[i+1] - adapters[i]\n",
    "    if verschil == 1:\n",
    "        diff1 += 1\n",
    "    elif verschil == 3:\n",
    "        diff3 += 1\n",
    "    elif (verschil == 0) | (verschil == 2):\n",
    "        pass\n",
    "    else:\n",
    "        print('Can`t connect: difference is larger than 3.')\n",
    "        break"
   ]
  },
  {
   "cell_type": "markdown",
   "metadata": {},
   "source": [
    "**Deel 2**"
   ]
  },
  {
   "cell_type": "markdown",
   "metadata": {},
   "source": [
    "Oplossing: graventheorie. Elke adapter is een node, elke edge is een mogelijke verbinding (dus met richting en max. 3 verschil)."
   ]
  },
  {
   "cell_type": "code",
   "execution_count": 5,
   "metadata": {},
   "outputs": [],
   "source": [
    "graaf = {}\n",
    "for i, v in enumerate(adapters):\n",
    "    aansluitend = [x for x in adapters if ((x > v) & (x <= (v+3)))]\n",
    "    graaf.setdefault(v, aansluitend)"
   ]
  },
  {
   "cell_type": "code",
   "execution_count": 6,
   "metadata": {},
   "outputs": [],
   "source": [
    "def vindallepaden(graph, start, end, path=[]):\n",
    "    path = path + [start]\n",
    "    if start == end:\n",
    "        return [path]\n",
    "    if start not in list(graph):\n",
    "        return []\n",
    "    paths = []\n",
    "    for node in graph[start]:\n",
    "        if node not in path:\n",
    "            newpaths = vindallepaden(graph, node, end, path)\n",
    "            for newpath in newpaths:\n",
    "                paths.append(newpath)\n",
    "    return paths"
   ]
  },
  {
   "cell_type": "markdown",
   "metadata": {},
   "source": [
    "Hak in stukjes bij node die in elke combinatie voor moet komen om bereken tijd behapbaar te houden"
   ]
  },
  {
   "cell_type": "code",
   "execution_count": 24,
   "metadata": {},
   "outputs": [
    {
     "name": "stdout",
     "output_type": "stream",
     "text": [
      "14173478093824\n"
     ]
    }
   ],
   "source": [
    "breaklist = [50, 105, device]\n",
    "combinaties = []\n",
    "start = 0\n",
    "for b in breaklist:\n",
    "    combinaties.append(len(vindallepaden(graaf, start, b)))\n",
    "    start = b\n",
    "print(combinaties[0] * combinaties[1] * combinaties[2])"
   ]
  },
  {
   "cell_type": "code",
   "execution_count": null,
   "metadata": {},
   "outputs": [],
   "source": []
  }
 ],
 "metadata": {
  "kernelspec": {
   "display_name": "Python 3",
   "language": "python",
   "name": "python3"
  },
  "language_info": {
   "codemirror_mode": {
    "name": "ipython",
    "version": 3
   },
   "file_extension": ".py",
   "mimetype": "text/x-python",
   "name": "python",
   "nbconvert_exporter": "python",
   "pygments_lexer": "ipython3",
   "version": "3.7.6"
  }
 },
 "nbformat": 4,
 "nbformat_minor": 4
}
