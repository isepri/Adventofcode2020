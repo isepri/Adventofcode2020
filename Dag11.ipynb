{
 "cells": [
  {
   "cell_type": "code",
   "execution_count": 1,
   "metadata": {},
   "outputs": [],
   "source": [
    "with open('input.txt') as t:\n",
    "    text = t.read().splitlines()\n",
    "\n"
   ]
  },
  {
   "cell_type": "code",
   "execution_count": 2,
   "metadata": {},
   "outputs": [],
   "source": [
    "# vloer toevoegen aan alle randen\n",
    "l_rand =len(text[0])\n",
    "rand = '.' * l_rand\n",
    "[text.insert(x, rand) for x in range(0,l_rand)]\n",
    "[text.insert(len(text), rand) for _ in range(l_rand)]\n",
    "wachtruimte = [rand + rij + rand for rij in text]"
   ]
  },
  {
   "cell_type": "markdown",
   "metadata": {},
   "source": [
    "**Deel 1**"
   ]
  },
  {
   "cell_type": "code",
   "execution_count": 3,
   "metadata": {},
   "outputs": [],
   "source": [
    "# def checkstoelen(wr, count):\n",
    "#     count += 1\n",
    "#     nwr = []\n",
    "#     o = 0\n",
    "#     for i,v in enumerate(wr):\n",
    "#         nrij = ''\n",
    "#         if (i < 5) | (i > (len(wr)-5)):\n",
    "#             nrij = v\n",
    "#         else:\n",
    "#             for j,s in enumerate(v):\n",
    "#                 if (j < 5) | (j > (len(v)-5)):\n",
    "#                     nrij += s\n",
    "#                 else:\n",
    "#                     ad = [wr[i-1][j-1], wr[i-1][j], wr[i-1][j+1],\n",
    "#                           wr[i][j-1], wr[i][j+1],\n",
    "#                           wr[i+1][j-1], wr[i+1][j], wr[i+1][j+1]\n",
    "#                          ]\n",
    "#                     if s == 'L':\n",
    "#                         if sum(x != '#' for x in ad) == 8:\n",
    "#                             nrij += '#'\n",
    "#                             o += 1\n",
    "#                         else:\n",
    "#                             nrij += s\n",
    "#                     elif s == '#':\n",
    "#                         if sum(x == s for x in ad) >= 4:\n",
    "#                             nrij += 'L'\n",
    "#                         else:\n",
    "#                             nrij += s\n",
    "#                             o += 1\n",
    "#                     else:\n",
    "#                         nrij += s\n",
    "#         nwr.append(nrij)\n",
    "#         veranderd = set(wr) != set(nwr)\n",
    "#     return(nwr, veranderd, count, o) "
   ]
  },
  {
   "cell_type": "code",
   "execution_count": 4,
   "metadata": {},
   "outputs": [],
   "source": [
    "# check = wachtruimte\n",
    "# v = True\n",
    "# i = 0\n",
    "# while v == True:\n",
    "#     check, v, i, bezet = checkstoelen(check, i)"
   ]
  },
  {
   "cell_type": "code",
   "execution_count": 5,
   "metadata": {},
   "outputs": [],
   "source": [
    "# print(bezet)"
   ]
  },
  {
   "cell_type": "markdown",
   "metadata": {},
   "source": [
    "**Deel 2**"
   ]
  },
  {
   "cell_type": "code",
   "execution_count": null,
   "metadata": {},
   "outputs": [],
   "source": [
    "\n"
   ]
  },
  {
   "cell_type": "code",
   "execution_count": 6,
   "metadata": {},
   "outputs": [],
   "source": [
    "def checkaangrenzend(d, m, n, l):\n",
    "    ll =[]\n",
    "    r = list(range(1,l))\n",
    "    for x in r:\n",
    "        cellen = [d[m-x][n-x], d[m-x][n], d[m-x][n+x], d[m][n-x], d[m][n+x], d[m+x][n-x], d[m+x][n], d[m+x][n+x]]\n",
    "        ll += [cellen]\n",
    "    ll_list =  [[row[z] for row in ll] for z in range(len(cellen))]\n",
    "    ad = []\n",
    "    for richting in ll_list:\n",
    "        maxr = len(richting)\n",
    "        if 'L' in richting:\n",
    "            maxr = richting.index('L')\n",
    "        if '#' in richting[:maxr]:\n",
    "            ad.append(True)\n",
    "        else:\n",
    "            ad.append(False)\n",
    "    return(ad)"
   ]
  },
  {
   "cell_type": "code",
   "execution_count": 7,
   "metadata": {},
   "outputs": [],
   "source": [
    "def checkstoelen2(wr, count, l):\n",
    "    count += 1\n",
    "    nwr = []\n",
    "    o = 0\n",
    "    for i,v in enumerate(wr):\n",
    "        nrij = ''\n",
    "        if (i < l) | (i >= (len(wr)-l)):\n",
    "            nrij = v\n",
    "        else:\n",
    "            for j,s in enumerate(v):\n",
    "                if (j < l) | (j >= (len(v)-l)):\n",
    "                    nrij += s\n",
    "                else:\n",
    "                    omgeving = checkaangrenzend(wr, i, j, l)\n",
    "                    if s == 'L':\n",
    "                        if sum(omgeving) == 0:\n",
    "                            nrij += '#'\n",
    "                            o += 1\n",
    "                        else:\n",
    "                            nrij += s\n",
    "                    elif s == '#':\n",
    "                        if sum(omgeving) >= 5:\n",
    "                            nrij += 'L'\n",
    "                        else:\n",
    "                            nrij += s\n",
    "                            o += 1\n",
    "                    else:\n",
    "                        nrij += s\n",
    "        nwr.append(nrij)\n",
    "    veranderd = set(wr) != set(nwr)\n",
    "    return(nwr, veranderd, count, o) "
   ]
  },
  {
   "cell_type": "code",
   "execution_count": 8,
   "metadata": {},
   "outputs": [],
   "source": [
    "check = wachtruimte\n",
    "v = True\n",
    "i = 0\n",
    "checks = [wachtruimte]\n",
    "while v == True:\n",
    "    check, v, i, bezet = checkstoelen2(check, i, l_rand)"
   ]
  },
  {
   "cell_type": "code",
   "execution_count": 9,
   "metadata": {},
   "outputs": [
    {
     "name": "stdout",
     "output_type": "stream",
     "text": [
      "2121\n"
     ]
    }
   ],
   "source": [
    "print(bezet)"
   ]
  }
 ],
 "metadata": {
  "kernelspec": {
   "display_name": "Python 3",
   "language": "python",
   "name": "python3"
  },
  "language_info": {
   "codemirror_mode": {
    "name": "ipython",
    "version": 3
   },
   "file_extension": ".py",
   "mimetype": "text/x-python",
   "name": "python",
   "nbconvert_exporter": "python",
   "pygments_lexer": "ipython3",
   "version": "3.7.6"
  }
 },
 "nbformat": 4,
 "nbformat_minor": 4
}
