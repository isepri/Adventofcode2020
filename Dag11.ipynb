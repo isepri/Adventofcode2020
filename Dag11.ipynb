{
 "cells": [
  {
   "cell_type": "code",
   "execution_count": 159,
   "metadata": {},
   "outputs": [],
   "source": [
    "with open('input.txt') as t:\n",
    "    text = t.read().splitlines()\n",
    "rand = '.' * len(text[0])\n",
    "text.insert(0, rand)\n",
    "text.insert(len(text), rand)\n",
    "wachtruimte = ['.' + rij +'.' for rij in text]"
   ]
  },
  {
   "cell_type": "code",
   "execution_count": 160,
   "metadata": {},
   "outputs": [],
   "source": [
    "def checkstoelen(wr, count):\n",
    "    count += 1\n",
    "    nwr = []\n",
    "    o = 0\n",
    "    for i,v in enumerate(wr):\n",
    "        nrij = ''\n",
    "        if (i == 0) | (i == (len(wr)-1)):\n",
    "            nrij = v\n",
    "        else:\n",
    "            for j,s in enumerate(v):\n",
    "                if (j == 0) | (j == (len(v)-1)):\n",
    "                    nrij += s\n",
    "                else:\n",
    "                    ad = [wr[i-1][j-1], wr[i-1][j], wr[i-1][j+1],\n",
    "                          wr[i][j-1], wr[i][j+1],\n",
    "                          wr[i+1][j-1], wr[i+1][j], wr[i+1][j+1]\n",
    "                         ]\n",
    "                    if s == 'L':\n",
    "                        if sum(x != '#' for x in ad) == 8:\n",
    "                            nrij += '#'\n",
    "                            o += 1\n",
    "                        else:\n",
    "                            nrij += s\n",
    "                    elif s == '#':\n",
    "                        if sum(x == s for x in ad) >= 4:\n",
    "                            nrij += 'L'\n",
    "                        else:\n",
    "                            nrij += s\n",
    "                            o += 1\n",
    "                    else:\n",
    "                        nrij += s\n",
    "        nwr.append(nrij)\n",
    "        veranderd = set(wr) != set(nwr)\n",
    "    return(nwr, veranderd, count, o) "
   ]
  },
  {
   "cell_type": "code",
   "execution_count": 161,
   "metadata": {},
   "outputs": [],
   "source": [
    "check = wachtruimte\n",
    "v = True\n",
    "i = 0\n",
    "while v == True:\n",
    "    check, v, i, bezet = checkstoelen(check, i)"
   ]
  },
  {
   "cell_type": "code",
   "execution_count": 162,
   "metadata": {},
   "outputs": [
    {
     "data": {
      "text/plain": [
       "2275"
      ]
     },
     "execution_count": 162,
     "metadata": {},
     "output_type": "execute_result"
    }
   ],
   "source": [
    "bezet"
   ]
  }
 ],
 "metadata": {
  "kernelspec": {
   "display_name": "Python 3",
   "language": "python",
   "name": "python3"
  },
  "language_info": {
   "codemirror_mode": {
    "name": "ipython",
    "version": 3
   },
   "file_extension": ".py",
   "mimetype": "text/x-python",
   "name": "python",
   "nbconvert_exporter": "python",
   "pygments_lexer": "ipython3",
   "version": "3.7.6"
  }
 },
 "nbformat": 4,
 "nbformat_minor": 4
}
