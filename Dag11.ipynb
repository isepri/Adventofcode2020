{
 "cells": [
  {
   "cell_type": "code",
   "execution_count": 12,
   "metadata": {},
   "outputs": [],
   "source": [
    "with open('input.txt') as t:\n",
    "    text = t.read().splitlines()\n",
    "# vloer toevoegen aan alle randen\n",
    "rand = '.' * len(text[0])\n",
    "[text.insert(x, rand) for x in range(0,5)]\n",
    "[text.insert(len(text), rand) for _ in range(5)]\n",
    "wachtruimte = ['.....' + rij +'.....' for rij in text]"
   ]
  },
  {
   "cell_type": "code",
   "execution_count": 13,
   "metadata": {},
   "outputs": [],
   "source": [
    "#wachtruimte"
   ]
  },
  {
   "cell_type": "markdown",
   "metadata": {},
   "source": [
    "**Deel 1**"
   ]
  },
  {
   "cell_type": "code",
   "execution_count": 14,
   "metadata": {},
   "outputs": [],
   "source": [
    "def checkstoelen(wr, count):\n",
    "    count += 1\n",
    "    nwr = []\n",
    "    o = 0\n",
    "    for i,v in enumerate(wr):\n",
    "        nrij = ''\n",
    "        if (i < 5) | (i > (len(wr)-5)):\n",
    "            nrij = v\n",
    "        else:\n",
    "            for j,s in enumerate(v):\n",
    "                if (j < 5) | (j > (len(v)-5)):\n",
    "                    nrij += s\n",
    "                else:\n",
    "                    ad = [wr[i-1][j-1], wr[i-1][j], wr[i-1][j+1],\n",
    "                          wr[i][j-1], wr[i][j+1],\n",
    "                          wr[i+1][j-1], wr[i+1][j], wr[i+1][j+1]\n",
    "                         ]\n",
    "                    if s == 'L':\n",
    "                        if sum(x != '#' for x in ad) == 8:\n",
    "                            nrij += '#'\n",
    "                            o += 1\n",
    "                        else:\n",
    "                            nrij += s\n",
    "                    elif s == '#':\n",
    "                        if sum(x == s for x in ad) >= 4:\n",
    "                            nrij += 'L'\n",
    "                        else:\n",
    "                            nrij += s\n",
    "                            o += 1\n",
    "                    else:\n",
    "                        nrij += s\n",
    "        nwr.append(nrij)\n",
    "        veranderd = set(wr) != set(nwr)\n",
    "    return(nwr, veranderd, count, o) "
   ]
  },
  {
   "cell_type": "code",
   "execution_count": 15,
   "metadata": {},
   "outputs": [],
   "source": [
    "check = wachtruimte\n",
    "v = True\n",
    "i = 0\n",
    "while v == True:\n",
    "    check, v, i, bezet = checkstoelen(check, i)"
   ]
  },
  {
   "cell_type": "code",
   "execution_count": 16,
   "metadata": {},
   "outputs": [],
   "source": [
    "print(bezet)"
   ]
  },
  {
   "cell_type": "markdown",
   "metadata": {},
   "source": [
    "**Deel 2**"
   ]
  },
  {
   "cell_type": "code",
   "execution_count": 17,
   "metadata": {},
   "outputs": [
    {
     "data": {
      "text/plain": [
       "[1, 2, 3, 4, 5]"
      ]
     },
     "execution_count": 17,
     "metadata": {},
     "output_type": "execute_result"
    }
   ],
   "source": [
    "list(range(1,6))"
   ]
  },
  {
   "cell_type": "code",
   "execution_count": 18,
   "metadata": {},
   "outputs": [],
   "source": [
    "def checkaangrenzend(df, m, n):\n",
    "    ll =[]\n",
    "    r = list(range(1,6))\n",
    "    for x in r:\n",
    "        cellen = [df[m-x][n-x], df[m-x][n], df[m-x][n+x], df[m][n-x], df[m][n+x], df[m+x][n-x], df[m+x][n], df[m+x][n+x]]\n",
    "        ll += [cellen]\n",
    "    ll_list =  [[row[z] for row in ll] for z in range(len(cellen))]\n",
    "    ad = []\n",
    "    for richting in ll_list:\n",
    "        maxr = len(richting)\n",
    "        if 'L' in richting:\n",
    "            maxr = richting.index('L')\n",
    "        if '#' in richting[:maxr]:\n",
    "            ad.append(True)\n",
    "        else:\n",
    "            ad.append(False)\n",
    "    return(ad)"
   ]
  },
  {
   "cell_type": "code",
   "execution_count": 19,
   "metadata": {},
   "outputs": [],
   "source": [
    "def checkstoelen2(wr, count):\n",
    "    count += 1\n",
    "    nwr = []\n",
    "    o = 0\n",
    "    for i,v in enumerate(wr):\n",
    "        nrij = ''\n",
    "        if (i < 5) | (i >= (len(wr)-5)):\n",
    "            nrij = v\n",
    "        else:\n",
    "            for j,s in enumerate(v):\n",
    "                if (j < 5) | (j >= (len(v)-5)):\n",
    "                    nrij += s\n",
    "                else:\n",
    "                    omgeving = checkaangrenzend(wr, i, j)\n",
    "                    if s == 'L':\n",
    "                        if sum(omgeving) == 0:\n",
    "                            nrij += '#'\n",
    "                            o += 1\n",
    "                        else:\n",
    "                            nrij += s\n",
    "                    elif s == '#':\n",
    "                        if sum(omgeving) >= 5:\n",
    "                            nrij += 'L'\n",
    "                        else:\n",
    "                            nrij += s\n",
    "                            o += 1\n",
    "                    else:\n",
    "                        nrij += s\n",
    "        nwr.append(nrij)\n",
    "    veranderd = set(wr) != set(nwr)\n",
    "    return(nwr, veranderd, count, o) "
   ]
  },
  {
   "cell_type": "code",
   "execution_count": 20,
   "metadata": {},
   "outputs": [],
   "source": [
    "check = wachtruimte\n",
    "v = True\n",
    "i = 0\n",
    "checks = [wachtruimte]\n",
    "while v == True:\n",
    "#while i < 2:   \n",
    "    check, v, i, bezet = checkstoelen2(check, i)\n",
    "    checks.append(check)"
   ]
  },
  {
   "cell_type": "code",
   "execution_count": 21,
   "metadata": {},
   "outputs": [
    {
     "data": {
      "text/plain": [
       "2092"
      ]
     },
     "execution_count": 21,
     "metadata": {},
     "output_type": "execute_result"
    }
   ],
   "source": [
    "bezet"
   ]
  }
 ],
 "metadata": {
  "kernelspec": {
   "display_name": "Python 3",
   "language": "python",
   "name": "python3"
  },
  "language_info": {
   "codemirror_mode": {
    "name": "ipython",
    "version": 3
   },
   "file_extension": ".py",
   "mimetype": "text/x-python",
   "name": "python",
   "nbconvert_exporter": "python",
   "pygments_lexer": "ipython3",
   "version": "3.7.6"
  }
 },
 "nbformat": 4,
 "nbformat_minor": 4
}
