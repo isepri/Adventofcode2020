{
 "cells": [
  {
   "cell_type": "code",
   "execution_count": 30,
   "metadata": {},
   "outputs": [],
   "source": [
    "with open('input.txt') as t:\n",
    "    text = t.read().splitlines()"
   ]
  },
  {
   "cell_type": "markdown",
   "metadata": {},
   "source": [
    "**Deel 1**"
   ]
  },
  {
   "cell_type": "code",
   "execution_count": 54,
   "metadata": {},
   "outputs": [],
   "source": [
    "p = [0,0] # positie  \n",
    "o = 0 # orientatie\n",
    "g = {\n",
    "    'E' : [-360, 0, 360],\n",
    "    'S' : [90, -270],\n",
    "    'W' : [180, -180],\n",
    "    'N' : [270, -90],\n",
    "    }\n",
    "for line in text:\n",
    "    ch = line[0]\n",
    "    u = int(line[1:])\n",
    "    r = {\n",
    "        'E' : [0, u],\n",
    "        'S' : [1, -u],\n",
    "        'W' : [0, -u],\n",
    "        'N' : [1, u],\n",
    "    } \n",
    "    if ch in list(r.keys()):\n",
    "        p[r[ch][0]] += r[ch][1]\n",
    "    if ch == 'L':\n",
    "        o -= u\n",
    "        if o < -360:\n",
    "            o += 360\n",
    "    if ch == 'R':\n",
    "        o += u\n",
    "        if o > 360:\n",
    "            o -= 360\n",
    "    if ch == 'F':\n",
    "        di = next((k for k, v in g.items() if o in v), None)\n",
    "        p[r[di][0]] += r[di][1]       "
   ]
  },
  {
   "cell_type": "code",
   "execution_count": 53,
   "metadata": {},
   "outputs": [
    {
     "data": {
      "text/plain": [
       "2280"
      ]
     },
     "execution_count": 53,
     "metadata": {},
     "output_type": "execute_result"
    }
   ],
   "source": [
    "abs(p[0]) + abs(p[1])"
   ]
  },
  {
   "cell_type": "code",
   "execution_count": null,
   "metadata": {},
   "outputs": [],
   "source": []
  }
 ],
 "metadata": {
  "kernelspec": {
   "display_name": "Python 3",
   "language": "python",
   "name": "python3"
  },
  "language_info": {
   "codemirror_mode": {
    "name": "ipython",
    "version": 3
   },
   "file_extension": ".py",
   "mimetype": "text/x-python",
   "name": "python",
   "nbconvert_exporter": "python",
   "pygments_lexer": "ipython3",
   "version": "3.7.6"
  }
 },
 "nbformat": 4,
 "nbformat_minor": 4
}
