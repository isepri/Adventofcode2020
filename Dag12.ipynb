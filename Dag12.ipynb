{
 "cells": [
  {
   "cell_type": "code",
   "execution_count": 1,
   "metadata": {},
   "outputs": [],
   "source": [
    "with open('input.txt') as t:\n",
    "    text = t.read().splitlines()"
   ]
  },
  {
   "cell_type": "markdown",
   "metadata": {},
   "source": [
    "**Deel 1**"
   ]
  },
  {
   "cell_type": "code",
   "execution_count": 2,
   "metadata": {},
   "outputs": [],
   "source": [
    "positie = [0,0] \n",
    "orientatie = 0 \n",
    "graden = {\n",
    "    'E' : [-360, 0, 360],\n",
    "    'S' : [90, -270],\n",
    "    'W' : [180, -180],\n",
    "    'N' : [270, -90],\n",
    "    }"
   ]
  },
  {
   "cell_type": "code",
   "execution_count": 3,
   "metadata": {},
   "outputs": [],
   "source": [
    "def navigeer(p, o, g):\n",
    "    for line in text:\n",
    "        ch = line[0]\n",
    "        u = int(line[1:])\n",
    "        r = {\n",
    "            'E' : [0, u],\n",
    "            'S' : [1, -u],\n",
    "            'W' : [0, -u],\n",
    "            'N' : [1, u],\n",
    "        } \n",
    "        if ch in list(r.keys()):\n",
    "            p[r[ch][0]] += r[ch][1]\n",
    "        if ch == 'L':\n",
    "            o -= u\n",
    "            if o < -360:\n",
    "                o += 360\n",
    "        if ch == 'R':\n",
    "            o += u\n",
    "            if o > 360:\n",
    "                o -= 360\n",
    "        if ch == 'F':\n",
    "            di = next((k for k, v in g.items() if o in v), None)\n",
    "            p[r[di][0]] += r[di][1]  \n",
    "    return(p)"
   ]
  },
  {
   "cell_type": "code",
   "execution_count": 4,
   "metadata": {},
   "outputs": [],
   "source": [
    "locatie1 = navigeer(positie, orientatie, graden)"
   ]
  },
  {
   "cell_type": "code",
   "execution_count": 5,
   "metadata": {},
   "outputs": [],
   "source": [
    "print(abs(locatie1[0]) + abs(locatie1[1]))"
   ]
  },
  {
   "cell_type": "markdown",
   "metadata": {},
   "source": [
    "**Deel 2**"
   ]
  },
  {
   "cell_type": "code",
   "execution_count": 6,
   "metadata": {},
   "outputs": [],
   "source": [
    "positie = [0,0] # positie schip\n",
    "waypoint = [10,1] # positie waypoint  "
   ]
  },
  {
   "cell_type": "code",
   "execution_count": 7,
   "metadata": {},
   "outputs": [],
   "source": [
    "def navigeer_waypoint(p, wp):\n",
    "    for line in text:\n",
    "        ch = line[0]\n",
    "        u = int(line[1:])\n",
    "        r = {\n",
    "            'E' : [0, u],\n",
    "            'S' : [1, -u],\n",
    "            'W' : [0, -u],\n",
    "            'N' : [1, u],\n",
    "        } \n",
    "        d = {\n",
    "            90 : [[-wp[1], wp[0]], [wp[1], -wp[0]]],\n",
    "            180 : [[-wp[0], -wp[1]], [-wp[0], -wp[1]]],\n",
    "            270 : [[wp[1], -wp[0]], [-wp[1], wp[0]]]\n",
    "        }\n",
    "        if ch in list(r.keys()):\n",
    "            wp[r[ch][0]] += r[ch][1]\n",
    "        if ch == 'L':\n",
    "            wp = d[u][0]\n",
    "        if ch == 'R':\n",
    "            wp = d[u][1]\n",
    "        if ch == 'F':\n",
    "            p[0] += wp[0]*u \n",
    "            p[1] += wp[1]*u\n",
    "    return(p)"
   ]
  },
  {
   "cell_type": "code",
   "execution_count": 8,
   "metadata": {},
   "outputs": [],
   "source": [
    "locatie2 = navigeer_waypoint(positie, waypoint)"
   ]
  },
  {
   "cell_type": "code",
   "execution_count": 9,
   "metadata": {},
   "outputs": [],
   "source": [
    "print(abs(locatie2[0]) + abs(locatie2[1]))"
   ]
  },
  {
   "cell_type": "code",
   "execution_count": null,
   "metadata": {},
   "outputs": [],
   "source": []
  }
 ],
 "metadata": {
  "kernelspec": {
   "display_name": "Python 3",
   "language": "python",
   "name": "python3"
  },
  "language_info": {
   "codemirror_mode": {
    "name": "ipython",
    "version": 3
   },
   "file_extension": ".py",
   "mimetype": "text/x-python",
   "name": "python",
   "nbconvert_exporter": "python",
   "pygments_lexer": "ipython3",
   "version": "3.7.6"
  }
 },
 "nbformat": 4,
 "nbformat_minor": 4
}
