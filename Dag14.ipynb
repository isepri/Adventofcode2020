{
 "cells": [
  {
   "cell_type": "code",
   "execution_count": 4,
   "metadata": {},
   "outputs": [],
   "source": [
    "import re\n",
    "import itertools"
   ]
  },
  {
   "cell_type": "code",
   "execution_count": 16,
   "metadata": {},
   "outputs": [],
   "source": [
    "with open('input.txt') as t:\n",
    "    text = t.read().splitlines()"
   ]
  },
  {
   "cell_type": "markdown",
   "metadata": {},
   "source": [
    "**Deel 1**"
   ]
  },
  {
   "cell_type": "code",
   "execution_count": 17,
   "metadata": {},
   "outputs": [],
   "source": [
    "memdict = {}\n",
    "for line in text:\n",
    "    items = line.split()\n",
    "    if items[0] == 'mask':\n",
    "        masker = items[2]\n",
    "    if 'mem' in items[0]:\n",
    "        getallen = re.findall('\\d+', line)\n",
    "        binair = str('{:036b}'.format(int(getallen[1])))\n",
    "        nieuw = ''\n",
    "        for i,s in enumerate(masker):\n",
    "            if s == 'X':\n",
    "                nieuw += binair[i]\n",
    "            else:\n",
    "                nieuw += s\n",
    "        memdict[int(getallen[0])] = int(nieuw,2)"
   ]
  },
  {
   "cell_type": "code",
   "execution_count": 18,
   "metadata": {},
   "outputs": [
    {
     "data": {
      "text/plain": [
       "12372014"
      ]
     },
     "execution_count": 18,
     "metadata": {},
     "output_type": "execute_result"
    }
   ],
   "source": [
    "sum(memdict)"
   ]
  },
  {
   "cell_type": "markdown",
   "metadata": {},
   "source": [
    "**Deel 2**"
   ]
  },
  {
   "cell_type": "code",
   "execution_count": 19,
   "metadata": {},
   "outputs": [],
   "source": [
    "memdict = {}\n",
    "for line in text:\n",
    "    items = line.split()\n",
    "    if items[0] == 'mask':\n",
    "        masker = items[2]\n",
    "        xen = re.findall('X', masker)\n",
    "        mogelijkheden = list(itertools.product([0, 1], repeat= len(xen)))\n",
    "        x_replace = []\n",
    "        for i,v in enumerate(xen):\n",
    "            x_replace += [[m[i] for m in mogelijkheden]]\n",
    "    if 'mem' in items[0]:\n",
    "        getallen = re.findall('\\d+', line)\n",
    "        binair = str('{:036b}'.format(int(getallen[0])))\n",
    "        tel = 0\n",
    "        nieuw = ['']* len(mogelijkheden)\n",
    "        for i,s in enumerate(masker):\n",
    "            if s == '1':\n",
    "                nieuw = [n + '1' for n in nieuw]\n",
    "            if s == '0':\n",
    "                nieuw = [n + binair[i] for n in nieuw]\n",
    "            if s == 'X':\n",
    "                nieuw = [n + str(y) for n, y in zip(nieuw, x_replace[tel])]\n",
    "                tel += 1   \n",
    "        for mem in nieuw:            \n",
    "            memdict[int(mem, 2)] = int(getallen[1])"
   ]
  },
  {
   "cell_type": "code",
   "execution_count": 20,
   "metadata": {},
   "outputs": [
    {
     "data": {
      "text/plain": [
       "2308180581795"
      ]
     },
     "execution_count": 20,
     "metadata": {},
     "output_type": "execute_result"
    }
   ],
   "source": [
    "sum(memdict.values())"
   ]
  },
  {
   "cell_type": "code",
   "execution_count": null,
   "metadata": {},
   "outputs": [],
   "source": [
    "#i_x = [pos for pos, char in enumerate(masker) if char == 'X']"
   ]
  }
 ],
 "metadata": {
  "kernelspec": {
   "display_name": "Python 3",
   "language": "python",
   "name": "python3"
  }
 },
 "nbformat": 4,
 "nbformat_minor": 4
}
