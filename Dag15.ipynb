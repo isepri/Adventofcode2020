{
 "cells": [
  {
   "cell_type": "code",
   "execution_count": 1,
   "metadata": {},
   "outputs": [],
   "source": [
    "with open('input.txt') as t:\n",
    "    text = t.read().split(',')"
   ]
  },
  {
   "cell_type": "markdown",
   "metadata": {},
   "source": [
    "**Deel 1**"
   ]
  },
  {
   "cell_type": "code",
   "execution_count": 2,
   "metadata": {},
   "outputs": [],
   "source": [
    "nummers = text.copy()"
   ]
  },
  {
   "cell_type": "code",
   "execution_count": 3,
   "metadata": {},
   "outputs": [],
   "source": [
    "def vindvolgendenr(nrs):\n",
    "    if nrs[-1] in nrs[:-1]:\n",
    "        i_laatste = len(nrs[:-1]) - 1 - nrs[:-1][::-1].index(nrs[-1])\n",
    "        add = str(len(nrs) - 1 - i_laatste)\n",
    "        nrs += [add]\n",
    "    else:\n",
    "        nrs += ['0']\n",
    "    return(nrs)"
   ]
  },
  {
   "cell_type": "code",
   "execution_count": 4,
   "metadata": {},
   "outputs": [],
   "source": [
    "while len(nummers) <= 2020:\n",
    "    nummers = vindvolgendenr(nummers)"
   ]
  },
  {
   "cell_type": "code",
   "execution_count": 5,
   "metadata": {},
   "outputs": [
    {
     "data": {
      "text/plain": [
       "'1009'"
      ]
     },
     "execution_count": 5,
     "metadata": {},
     "output_type": "execute_result"
    }
   ],
   "source": [
    "print(nummers[2020-1])"
   ]
  },
  {
   "cell_type": "markdown",
   "metadata": {},
   "source": [
    "**Deel 2**"
   ]
  },
  {
   "cell_type": "code",
   "execution_count": 6,
   "metadata": {},
   "outputs": [],
   "source": [
    "nrsdict = {k: v for v, k in enumerate(text[:-1])}\n",
    "start = text[-1]"
   ]
  },
  {
   "cell_type": "code",
   "execution_count": 7,
   "metadata": {},
   "outputs": [],
   "source": [
    "def vindvolgendenr(nrs, nr, index):\n",
    "    if nr in nrs:\n",
    "        nieuw = str(index - nrs[nr])\n",
    "    else:\n",
    "        nieuw = '0'\n",
    "    nrs[nr] = index\n",
    "    return(nrs, nieuw)"
   ]
  },
  {
   "cell_type": "code",
   "execution_count": 8,
   "metadata": {},
   "outputs": [],
   "source": [
    "i = len(nrsdict) \n",
    "laatste = start\n",
    "while i < 30000000: \n",
    "    nrsdict, laatste = vindvolgendenr(nrsdict, laatste, i)  \n",
    "    i += 1"
   ]
  },
  {
   "cell_type": "code",
   "execution_count": 9,
   "metadata": {},
   "outputs": [
    {
     "name": "stdout",
     "output_type": "stream",
     "text": [
      "62714\n"
     ]
    }
   ],
   "source": [
    "print(list(nrsdict.keys())[list(nrsdict.values()).index(30000000-1)])"
   ]
  }
 ],
 "metadata": {
  "kernelspec": {
   "display_name": "Python 3",
   "language": "python",
   "name": "python3"
  },
  "language_info": {
   "codemirror_mode": {
    "name": "ipython",
    "version": 3
   },
   "file_extension": ".py",
   "mimetype": "text/x-python",
   "name": "python",
   "nbconvert_exporter": "python",
   "pygments_lexer": "ipython3",
   "version": "3.8.5"
  }
 },
 "nbformat": 4,
 "nbformat_minor": 4
}
