{
 "cells": [
  {
   "cell_type": "code",
   "execution_count": 1,
   "metadata": {},
   "outputs": [],
   "source": [
    "import re\n",
    "import pandas as pd\n",
    "import numpy as np\n",
    "from itertools import chain"
   ]
  },
  {
   "cell_type": "code",
   "execution_count": 2,
   "metadata": {},
   "outputs": [],
   "source": [
    "with open('input.txt') as t:\n",
    "    text = t.read().split('\\n\\n')"
   ]
  },
  {
   "cell_type": "code",
   "execution_count": 3,
   "metadata": {},
   "outputs": [],
   "source": [
    "regelslines = text[0].splitlines()\n",
    "regels = [[regel.split(':')[0], re.findall('\\d+', regel)[0:2], re.findall('\\d+', regel)[2:4]] for regel in regelslines]\n",
    "mijnticket = text[1].splitlines()[1].split(',')\n",
    "ticketslines = text[2].splitlines()\n",
    "tickets = [ticket.split(',') for ticket in ticketslines[1:]]"
   ]
  },
  {
   "cell_type": "markdown",
   "metadata": {},
   "source": [
    "**Deel 1**"
   ]
  },
  {
   "cell_type": "code",
   "execution_count": 4,
   "metadata": {},
   "outputs": [],
   "source": [
    "ongeldig = []\n",
    "for t in tickets:\n",
    "    for va in t:\n",
    "        v = int(va)\n",
    "        geldig = False\n",
    "        for regel in regels:\n",
    "            if ((v >= int(regel[1][0])) & (v <= int(regel[1][1]))) | ((v >= int(regel[2][0])) & (v <= int(regel[2][1]))):\n",
    "                geldig = True  \n",
    "        if geldig == False:\n",
    "            ongeldig += [int(v)]"
   ]
  },
  {
   "cell_type": "code",
   "execution_count": 5,
   "metadata": {},
   "outputs": [
    {
     "data": {
      "text/plain": [
       "18142"
      ]
     },
     "execution_count": 5,
     "metadata": {},
     "output_type": "execute_result"
    }
   ],
   "source": [
    "sum(ongeldig)"
   ]
  },
  {
   "cell_type": "markdown",
   "metadata": {},
   "source": [
    "**Deel 2**"
   ]
  },
  {
   "cell_type": "markdown",
   "metadata": {},
   "source": [
    "Selecteer geldige tickets"
   ]
  },
  {
   "cell_type": "code",
   "execution_count": 6,
   "metadata": {},
   "outputs": [],
   "source": [
    "gt = []\n",
    "for t in tickets:\n",
    "    t = list(map(int, t))\n",
    "    geldig = []\n",
    "    for v in t:\n",
    "        if v in ongeldig:\n",
    "            geldig += [False]\n",
    "        else:\n",
    "            geldig += [True]\n",
    "    if all(geldig):\n",
    "        gt += [t]       "
   ]
  },
  {
   "cell_type": "markdown",
   "metadata": {},
   "source": [
    "Transform lists naar nested list per categorie"
   ]
  },
  {
   "cell_type": "code",
   "execution_count": 7,
   "metadata": {},
   "outputs": [],
   "source": [
    "gt_cat = list(map(list, zip(*gt)))"
   ]
  },
  {
   "cell_type": "markdown",
   "metadata": {},
   "source": [
    "Creeer dictonary met categorie als key en list van mogelijke indices als value."
   ]
  },
  {
   "cell_type": "code",
   "execution_count": 8,
   "metadata": {},
   "outputs": [],
   "source": [
    "i_cat = {}\n",
    "r = []\n",
    "\n",
    "for regel in regels:\n",
    "    r = []\n",
    "    for i,cat in enumerate(gt_cat):\n",
    "        if all(((v >= int(regel[1][0])) & (v <= int(regel[1][1]))) | ((v >= int(regel[2][0])) & (v <= int(regel[2][1]))) for v in cat):\n",
    "            r += [str(i)]\n",
    "    i_cat[regel[0]] = r"
   ]
  },
  {
   "cell_type": "markdown",
   "metadata": {},
   "source": [
    "Maak functie die kijkt of er categorieen zijn met maar één mogelijke index en defineer die categorie. "
   ]
  },
  {
   "cell_type": "code",
   "execution_count": 9,
   "metadata": {},
   "outputs": [],
   "source": [
    "def checkindex(di, final, bekend):\n",
    "    for x, y in zip(di.keys(), di.values()):\n",
    "        yn =  np.setdiff1d(y, bekend)\n",
    "        if len(yn) == 1:\n",
    "            final[x] = yn.item()\n",
    "            bekend += [yn]\n",
    "    return(final, bekend)"
   ]
  },
  {
   "cell_type": "markdown",
   "metadata": {},
   "source": [
    "Loop door bovenstaande functie, met indices die al toegewezen zijn een categorie er telkens uitgefilterd"
   ]
  },
  {
   "cell_type": "code",
   "execution_count": 10,
   "metadata": {},
   "outputs": [],
   "source": [
    "f = {}\n",
    "b = []\n",
    "while len(f) < len(i_cat):\n",
    "    f, b = checkindex(i_cat, f, b)"
   ]
  },
  {
   "cell_type": "markdown",
   "metadata": {},
   "source": [
    "Vind de waarden van op 'mijn ticket' en vermenigvuldig deze"
   ]
  },
  {
   "cell_type": "code",
   "execution_count": 11,
   "metadata": {},
   "outputs": [],
   "source": [
    "som = 1\n",
    "for key in f:\n",
    "    if 'departure' in key:\n",
    "        index = int(f[key])\n",
    "        som *= int(mijnticket[index])"
   ]
  },
  {
   "cell_type": "code",
   "execution_count": 12,
   "metadata": {},
   "outputs": [
    {
     "name": "stdout",
     "output_type": "stream",
     "text": [
      "1069784384303\n"
     ]
    }
   ],
   "source": [
    "print(som)"
   ]
  }
 ],
 "metadata": {
  "kernelspec": {
   "display_name": "Python 3",
   "language": "python",
   "name": "python3"
  },
  "language_info": {
   "codemirror_mode": {
    "name": "ipython",
    "version": 3
   },
   "file_extension": ".py",
   "mimetype": "text/x-python",
   "name": "python",
   "nbconvert_exporter": "python",
   "pygments_lexer": "ipython3",
   "version": "3.8.5"
  }
 },
 "nbformat": 4,
 "nbformat_minor": 4
}
