{
 "cells": [
  {
   "cell_type": "code",
   "execution_count": 15,
   "metadata": {},
   "outputs": [],
   "source": [
    "import numpy as np\n",
    "import pandas as pd\n",
    "import re\n",
    "import itertools "
   ]
  },
  {
   "cell_type": "code",
   "execution_count": 40,
   "metadata": {},
   "outputs": [],
   "source": [
    "with open('input.txt') as t:\n",
    "    text = t.read().split('\\n')"
   ]
  },
  {
   "cell_type": "code",
   "execution_count": 41,
   "metadata": {},
   "outputs": [],
   "source": [
    "text = text[:-1]"
   ]
  },
  {
   "cell_type": "code",
   "execution_count": 42,
   "metadata": {},
   "outputs": [],
   "source": [
    "cycles = 20\n",
    "breedte = '.' * len(text[0])\n",
    "rand = '.' * cycles\n",
    "[text.insert(x, breedte) for x in range(0,cycles)]\n",
    "[text.insert(len(text), breedte) for _ in range(cycles)]\n",
    "space = [rand + rij + rand for rij in text]"
   ]
  },
  {
   "cell_type": "code",
   "execution_count": 43,
   "metadata": {},
   "outputs": [],
   "source": [
    "bn = []\n",
    "for line in space:\n",
    "    r = []\n",
    "    for ch in line:\n",
    "        if ch == '.':\n",
    "            r.append(0)\n",
    "        if ch == '#':\n",
    "            r.append(1)\n",
    "    if r != []:\n",
    "        bn += [r]"
   ]
  },
  {
   "cell_type": "code",
   "execution_count": 44,
   "metadata": {},
   "outputs": [],
   "source": [
    "cubes = np.zeros((len(space), len(space[0]), cycles+1+cycles))\n",
    "cubes[:,:, cycles+1] = np.array(bn)"
   ]
  },
  {
   "cell_type": "code",
   "execution_count": 45,
   "metadata": {},
   "outputs": [],
   "source": [
    "#benadering omliggende cellen\n",
    "m = [-1, 0, 1]\n",
    "combis = list(itertools.product(m, repeat = 3))"
   ]
  },
  {
   "cell_type": "code",
   "execution_count": 46,
   "metadata": {},
   "outputs": [],
   "source": [
    "def veranderstaat(ar):\n",
    "    new = ar.copy()\n",
    "    for k, a in enumerate(ar):\n",
    "        if (k > 0) & (k < ar.shape[2]-1):\n",
    "            for i,row in enumerate(a):\n",
    "                if (i > 0) & (i < len(a)-1):\n",
    "                    for j, cell in enumerate(row):\n",
    "                        actives = []\n",
    "                        if (j > 0) & (j < len(row)-1):\n",
    "                            actives = [True for c in combis if ar[i + c[0]][j + c[1]][k + c[2]] == 1]\n",
    "                            if ar[i][j][k] == 0:\n",
    "                                if sum(actives) == 3:\n",
    "                                    new[i][j][k] = 1\n",
    "                                else:\n",
    "                                    new[i][j][k] = 0\n",
    "                            if ar[i][j][k] == 1:\n",
    "                                if ((sum(actives) == 3) | (sum(actives) == 4)):\n",
    "                                    new[i][j][k] = 1\n",
    "                                else:\n",
    "                                    new[i][j][k] = 0\n",
    "    return(new)"
   ]
  },
  {
   "cell_type": "code",
   "execution_count": 47,
   "metadata": {},
   "outputs": [
    {
     "name": "stdout",
     "output_type": "stream",
     "text": [
      "0\n",
      "1\n",
      "2\n",
      "3\n",
      "4\n",
      "5\n"
     ]
    }
   ],
   "source": [
    "i = 0\n",
    "while i < 6:\n",
    "    cubes = veranderstaat(cubes)\n",
    "    i += 1"
   ]
  },
  {
   "cell_type": "code",
   "execution_count": 48,
   "metadata": {},
   "outputs": [
    {
     "name": "stdout",
     "output_type": "stream",
     "text": [
      "424.0\n"
     ]
    }
   ],
   "source": [
    "print(np.sum(cubes))"
   ]
  },
  {
   "cell_type": "code",
   "execution_count": null,
   "metadata": {},
   "outputs": [],
   "source": []
  }
 ],
 "metadata": {
  "kernelspec": {
   "display_name": "Python 3",
   "language": "python",
   "name": "python3"
  },
  "language_info": {
   "codemirror_mode": {
    "name": "ipython",
    "version": 3
   },
   "file_extension": ".py",
   "mimetype": "text/x-python",
   "name": "python",
   "nbconvert_exporter": "python",
   "pygments_lexer": "ipython3",
   "version": "3.8.5"
  }
 },
 "nbformat": 4,
 "nbformat_minor": 4
}
