{
 "cells": [
  {
   "cell_type": "code",
   "execution_count": 1,
   "metadata": {},
   "outputs": [],
   "source": [
    "import numpy as np\n",
    "import pandas as pd\n",
    "import re\n",
    "import itertools "
   ]
  },
  {
   "cell_type": "code",
   "execution_count": 2,
   "metadata": {},
   "outputs": [],
   "source": [
    "with open('input.txt') as t:\n",
    "    text = t.read().split('\\n')"
   ]
  },
  {
   "cell_type": "code",
   "execution_count": 3,
   "metadata": {},
   "outputs": [],
   "source": [
    "text = text[:-1]"
   ]
  },
  {
   "cell_type": "code",
   "execution_count": 4,
   "metadata": {},
   "outputs": [],
   "source": [
    "lagen = 15\n",
    "breedte = '.' * len(text[0])\n",
    "rand = '.' * lagen\n",
    "[text.insert(x, breedte) for x in range(0,lagen)]\n",
    "[text.insert(len(text), breedte) for _ in range(lagen)]\n",
    "space = [rand + rij + rand for rij in text]"
   ]
  },
  {
   "cell_type": "code",
   "execution_count": 5,
   "metadata": {},
   "outputs": [],
   "source": [
    "bn = []\n",
    "for line in space:\n",
    "    r = []\n",
    "    for ch in line:\n",
    "        if ch == '.':\n",
    "            r.append(0)\n",
    "        if ch == '#':\n",
    "            r.append(1)\n",
    "    if r != []:\n",
    "        bn += [r]"
   ]
  },
  {
   "cell_type": "code",
   "execution_count": 6,
   "metadata": {},
   "outputs": [],
   "source": [
    "cubes = np.zeros((len(space), len(space[0]), lagen+1+lagen))\n",
    "cubes[:,:, lagen+1] = np.array(bn)"
   ]
  },
  {
   "cell_type": "code",
   "execution_count": 7,
   "metadata": {},
   "outputs": [],
   "source": [
    "#benadering omliggende cellen\n",
    "m = [-1, 0, 1]\n",
    "combis = list(itertools.product(m, repeat = 3))"
   ]
  },
  {
   "cell_type": "code",
   "execution_count": 8,
   "metadata": {},
   "outputs": [],
   "source": [
    "def veranderstaat(ar, count, laag):\n",
    "    new = ar.copy()\n",
    "    for k, a in enumerate(ar):\n",
    "        if ((k >= (laag - count)) & (k <= (laag + count))):\n",
    "            for i,row in enumerate(a):\n",
    "                if ((i >= (15-count)) & (i <= (22+count))):\n",
    "                    for j, cell in enumerate(row):\n",
    "                        actives = []\n",
    "                        if ((j >= (15-count)) & (j <= (22+count))):\n",
    "                            actives = [True for c in combis if ar[i + c[0]][j + c[1]][k + c[2]] == 1]\n",
    "                            if ar[i][j][k] == 0:\n",
    "                                if sum(actives) == 3:\n",
    "                                    new[i][j][k] = 1\n",
    "                                else:\n",
    "                                    new[i][j][k] = 0\n",
    "                            if ar[i][j][k] == 1:\n",
    "                                if ((sum(actives) == 3) | (sum(actives) == 4)):\n",
    "                                    new[i][j][k] = 1\n",
    "                                else:\n",
    "                                    new[i][j][k] = 0\n",
    "    return(new)"
   ]
  },
  {
   "cell_type": "code",
   "execution_count": 9,
   "metadata": {},
   "outputs": [],
   "source": [
    "c = cubes\n",
    "i = 1\n",
    "while i <= 6:\n",
    "    c = veranderstaat(c, i, (lagen+1))\n",
    "    i += 1"
   ]
  },
  {
   "cell_type": "code",
   "execution_count": 10,
   "metadata": {},
   "outputs": [
    {
     "name": "stdout",
     "output_type": "stream",
     "text": [
      "424.0\n"
     ]
    }
   ],
   "source": [
    "print(np.sum(c))"
   ]
  },
  {
   "cell_type": "markdown",
   "metadata": {},
   "source": [
    "**Deel 2**"
   ]
  },
  {
   "cell_type": "code",
   "execution_count": 11,
   "metadata": {},
   "outputs": [],
   "source": [
    "cubes4 = np.zeros((len(space), len(space[0]), lagen+1+lagen, lagen+1+lagen))"
   ]
  },
  {
   "cell_type": "code",
   "execution_count": 12,
   "metadata": {},
   "outputs": [],
   "source": [
    "cubes4[:,:, lagen+1, lagen+1] = np.array(bn)"
   ]
  },
  {
   "cell_type": "code",
   "execution_count": 13,
   "metadata": {},
   "outputs": [],
   "source": [
    "combis4 = list(itertools.product(m, repeat = 4))"
   ]
  },
  {
   "cell_type": "code",
   "execution_count": 14,
   "metadata": {},
   "outputs": [],
   "source": [
    "def veranderstaat4(ar, count, laag):\n",
    "    new = ar.copy()\n",
    "    for l, cube in enumerate(ar):\n",
    "        if ((l >= (laag - count)) & (l <= (laag + count))):\n",
    "            for k, a in enumerate(cube):\n",
    "                if ((k >= (laag - count)) & (k <= (laag + count))):\n",
    "                    for i,row in enumerate(a):\n",
    "                        if ((i >= (15-count)) & (i <= (22+count))):\n",
    "                            for j, cell in enumerate(row):\n",
    "                                actives = []\n",
    "                                if ((j >= (15-count)) & (j <= (22+count))):\n",
    "                                    actives = [True for c in combis4 if ar[i + c[0]][j + c[1]][k + c[2]][l + c[3]] == 1]\n",
    "                                    if ar[i][j][k][l] == 0:\n",
    "                                        if sum(actives) == 3:\n",
    "                                            new[i][j][k][l] = 1\n",
    "                                        else:\n",
    "                                            new[i][j][k][l] = 0\n",
    "                                    if ar[i][j][k][l] == 1:\n",
    "                                        if ((sum(actives) == 3) | (sum(actives) == 4)):\n",
    "                                            new[i][j][k][l] = 1\n",
    "                                        else:\n",
    "                                            new[i][j][k][l] = 0\n",
    "    return(new)"
   ]
  },
  {
   "cell_type": "code",
   "execution_count": 15,
   "metadata": {},
   "outputs": [],
   "source": [
    "c4 = cubes4\n",
    "i = 1\n",
    "while i <= 6:\n",
    "    c4 = veranderstaat4(c4, i, (lagen+1))\n",
    "    i += 1"
   ]
  },
  {
   "cell_type": "code",
   "execution_count": 16,
   "metadata": {},
   "outputs": [
    {
     "name": "stdout",
     "output_type": "stream",
     "text": [
      "2460.0\n"
     ]
    }
   ],
   "source": [
    "print(np.sum(c4))"
   ]
  },
  {
   "cell_type": "code",
   "execution_count": null,
   "metadata": {},
   "outputs": [],
   "source": []
  }
 ],
 "metadata": {
  "kernelspec": {
   "display_name": "Python 3",
   "language": "python",
   "name": "python3"
  },
  "language_info": {
   "codemirror_mode": {
    "name": "ipython",
    "version": 3
   },
   "file_extension": ".py",
   "mimetype": "text/x-python",
   "name": "python",
   "nbconvert_exporter": "python",
   "pygments_lexer": "ipython3",
   "version": "3.8.5"
  }
 },
 "nbformat": 4,
 "nbformat_minor": 4
}
