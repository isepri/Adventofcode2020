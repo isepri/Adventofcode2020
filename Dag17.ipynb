{
 "cells": [
  {
   "cell_type": "code",
   "execution_count": 1,
   "metadata": {},
   "outputs": [],
   "source": [
    "import numpy as np\n",
    "import pandas as pd\n",
    "import re\n",
    "import itertools "
   ]
  },
  {
   "cell_type": "code",
   "execution_count": 2,
   "metadata": {},
   "outputs": [],
   "source": [
    "with open('input.txt') as t:\n",
    "    text = t.read().split('\\n')"
   ]
  },
  {
   "cell_type": "code",
   "execution_count": 3,
   "metadata": {},
   "outputs": [],
   "source": [
    "text = text[:-1]"
   ]
  },
  {
   "cell_type": "code",
   "execution_count": 4,
   "metadata": {},
   "outputs": [],
   "source": [
    "lagen = 15\n",
    "breedte = '.' * len(text[0])\n",
    "rand = '.' * lagen\n",
    "[text.insert(x, breedte) for x in range(0,lagen)]\n",
    "[text.insert(len(text), breedte) for _ in range(lagen)]\n",
    "space = [rand + rij + rand for rij in text]"
   ]
  },
  {
   "cell_type": "code",
   "execution_count": 5,
   "metadata": {},
   "outputs": [],
   "source": [
    "bn = []\n",
    "for line in space:\n",
    "    r = []\n",
    "    for ch in line:\n",
    "        if ch == '.':\n",
    "            r.append(0)\n",
    "        if ch == '#':\n",
    "            r.append(1)\n",
    "    if r != []:\n",
    "        bn += [r]"
   ]
  },
  {
   "cell_type": "code",
   "execution_count": 6,
   "metadata": {},
   "outputs": [],
   "source": [
    "cubes = np.zeros((len(space), len(space[0]), lagen+1+lagen))\n",
    "cubes[:,:, lagen+1] = np.array(bn)"
   ]
  },
  {
   "cell_type": "code",
   "execution_count": 7,
   "metadata": {},
   "outputs": [],
   "source": [
    "#benadering omliggende cellen\n",
    "m = [-1, 0, 1]\n",
    "combis = list(itertools.product(m, repeat = 3))"
   ]
  },
  {
   "cell_type": "code",
   "execution_count": 8,
   "metadata": {},
   "outputs": [],
   "source": [
    "def veranderstaat(ar):\n",
    "    new = ar.copy()\n",
    "    for k, a in enumerate(ar):\n",
    "        if (k > 0) & (k < ar.shape[2]-1):\n",
    "            for i,row in enumerate(a):\n",
    "                if (i > 0) & (i < len(a)-1):\n",
    "                    for j, cell in enumerate(row):\n",
    "                        actives = []\n",
    "                        if (j > 0) & (j < len(row)-1):\n",
    "                            actives = [True for c in combis if ar[i + c[0]][j + c[1]][k + c[2]] == 1]\n",
    "                            if ar[i][j][k] == 0:\n",
    "                                if sum(actives) == 3:\n",
    "                                    new[i][j][k] = 1\n",
    "                                else:\n",
    "                                    new[i][j][k] = 0\n",
    "                            if ar[i][j][k] == 1:\n",
    "                                if ((sum(actives) == 3) | (sum(actives) == 4)):\n",
    "                                    new[i][j][k] = 1\n",
    "                                else:\n",
    "                                    new[i][j][k] = 0\n",
    "    return(new)"
   ]
  },
  {
   "cell_type": "code",
   "execution_count": 9,
   "metadata": {},
   "outputs": [],
   "source": [
    "i = 0\n",
    "while i < 6:\n",
    "    cubes = veranderstaat(cubes)\n",
    "    i += 1"
   ]
  },
  {
   "cell_type": "code",
   "execution_count": 10,
   "metadata": {},
   "outputs": [
    {
     "name": "stdout",
     "output_type": "stream",
     "text": [
      "424.0\n"
     ]
    }
   ],
   "source": [
    "print(np.sum(cubes))"
   ]
  },
  {
   "cell_type": "code",
   "execution_count": null,
   "metadata": {},
   "outputs": [],
   "source": []
  },
  {
   "cell_type": "code",
   "execution_count": null,
   "metadata": {},
   "outputs": [],
   "source": []
  },
  {
   "cell_type": "code",
   "execution_count": null,
   "metadata": {},
   "outputs": [],
   "source": []
  }
 ],
 "metadata": {
  "kernelspec": {
   "display_name": "Python 3",
   "language": "python",
   "name": "python3"
  },
  "language_info": {
   "codemirror_mode": {
    "name": "ipython",
    "version": 3
   },
   "file_extension": ".py",
   "mimetype": "text/x-python",
   "name": "python",
   "nbconvert_exporter": "python",
   "pygments_lexer": "ipython3",
   "version": "3.8.5"
  }
 },
 "nbformat": 4,
 "nbformat_minor": 4
}
