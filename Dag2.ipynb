{
 "cells": [
  {
   "cell_type": "code",
   "execution_count": 1,
   "metadata": {},
   "outputs": [],
   "source": [
    "import pandas as pd\n",
    "import numpy as np\n",
    "import itertools"
   ]
  },
  {
   "cell_type": "code",
   "execution_count": 2,
   "metadata": {},
   "outputs": [],
   "source": [
    "df_text = pd.read_csv(\"input.txt\", names =['text'])"
   ]
  },
  {
   "cell_type": "markdown",
   "metadata": {},
   "source": [
    "**Deel 1**"
   ]
  },
  {
   "cell_type": "code",
   "execution_count": 3,
   "metadata": {},
   "outputs": [
    {
     "data": {
      "text/html": [
       "<div>\n",
       "<style scoped>\n",
       "    .dataframe tbody tr th:only-of-type {\n",
       "        vertical-align: middle;\n",
       "    }\n",
       "\n",
       "    .dataframe tbody tr th {\n",
       "        vertical-align: top;\n",
       "    }\n",
       "\n",
       "    .dataframe thead th {\n",
       "        text-align: right;\n",
       "    }\n",
       "</style>\n",
       "<table border=\"1\" class=\"dataframe\">\n",
       "  <thead>\n",
       "    <tr style=\"text-align: right;\">\n",
       "      <th></th>\n",
       "      <th>text</th>\n",
       "    </tr>\n",
       "  </thead>\n",
       "  <tbody>\n",
       "    <tr>\n",
       "      <th>0</th>\n",
       "      <td>3-4 t: dttt</td>\n",
       "    </tr>\n",
       "    <tr>\n",
       "      <th>1</th>\n",
       "      <td>5-7 l: llmlqmblllh</td>\n",
       "    </tr>\n",
       "    <tr>\n",
       "      <th>2</th>\n",
       "      <td>3-10 g: gggxwxggggkgglklhhgg</td>\n",
       "    </tr>\n",
       "    <tr>\n",
       "      <th>3</th>\n",
       "      <td>5-7 d: zxhddvxd</td>\n",
       "    </tr>\n",
       "    <tr>\n",
       "      <th>4</th>\n",
       "      <td>5-12 s: sgscssssphxs</td>\n",
       "    </tr>\n",
       "    <tr>\n",
       "      <th>...</th>\n",
       "      <td>...</td>\n",
       "    </tr>\n",
       "    <tr>\n",
       "      <th>995</th>\n",
       "      <td>8-12 l: lllllhlllvlllllll</td>\n",
       "    </tr>\n",
       "    <tr>\n",
       "      <th>996</th>\n",
       "      <td>4-13 g: gggwgjlvmqgdgfg</td>\n",
       "    </tr>\n",
       "    <tr>\n",
       "      <th>997</th>\n",
       "      <td>5-7 v: wvkkvbvcrvtvvmh</td>\n",
       "    </tr>\n",
       "    <tr>\n",
       "      <th>998</th>\n",
       "      <td>14-15 h: hhhhhhhhhhhhhjh</td>\n",
       "    </tr>\n",
       "    <tr>\n",
       "      <th>999</th>\n",
       "      <td>14-16 p: tpkppppppppppppppppp</td>\n",
       "    </tr>\n",
       "  </tbody>\n",
       "</table>\n",
       "<p>1000 rows × 1 columns</p>\n",
       "</div>"
      ],
      "text/plain": [
       "                              text\n",
       "0                      3-4 t: dttt\n",
       "1               5-7 l: llmlqmblllh\n",
       "2     3-10 g: gggxwxggggkgglklhhgg\n",
       "3                  5-7 d: zxhddvxd\n",
       "4             5-12 s: sgscssssphxs\n",
       "..                             ...\n",
       "995      8-12 l: lllllhlllvlllllll\n",
       "996        4-13 g: gggwgjlvmqgdgfg\n",
       "997         5-7 v: wvkkvbvcrvtvvmh\n",
       "998       14-15 h: hhhhhhhhhhhhhjh\n",
       "999  14-16 p: tpkppppppppppppppppp\n",
       "\n",
       "[1000 rows x 1 columns]"
      ]
     },
     "metadata": {},
     "output_type": "display_data"
    }
   ],
   "source": [
    "display(df_text)"
   ]
  },
  {
   "cell_type": "code",
   "execution_count": 4,
   "metadata": {},
   "outputs": [],
   "source": [
    "df_text['text'] = df_text['text'].str.replace('-', ' ')\n",
    "df_text['text'] = df_text['text'].str.replace(':', '')"
   ]
  },
  {
   "cell_type": "code",
   "execution_count": 5,
   "metadata": {},
   "outputs": [],
   "source": [
    "df = pd.DataFrame(df_text.text.str.split(expand=True))\n",
    "df.columns = ['min', 'max', 'letter', 'ww']"
   ]
  },
  {
   "cell_type": "code",
   "execution_count": 44,
   "metadata": {},
   "outputs": [],
   "source": [
    "df['min'] = pd.to_numeric(df['min'])\n",
    "df['max'] = pd.to_numeric(df['max'])"
   ]
  },
  {
   "cell_type": "code",
   "execution_count": 67,
   "metadata": {},
   "outputs": [
    {
     "data": {
      "text/html": [
       "<div>\n",
       "<style scoped>\n",
       "    .dataframe tbody tr th:only-of-type {\n",
       "        vertical-align: middle;\n",
       "    }\n",
       "\n",
       "    .dataframe tbody tr th {\n",
       "        vertical-align: top;\n",
       "    }\n",
       "\n",
       "    .dataframe thead th {\n",
       "        text-align: right;\n",
       "    }\n",
       "</style>\n",
       "<table border=\"1\" class=\"dataframe\">\n",
       "  <thead>\n",
       "    <tr style=\"text-align: right;\">\n",
       "      <th></th>\n",
       "      <th>min</th>\n",
       "      <th>max</th>\n",
       "      <th>letter</th>\n",
       "      <th>ww</th>\n",
       "      <th>count</th>\n",
       "      <th>lengte</th>\n",
       "      <th>letter_1</th>\n",
       "      <th>letter_2</th>\n",
       "    </tr>\n",
       "  </thead>\n",
       "  <tbody>\n",
       "    <tr>\n",
       "      <th>0</th>\n",
       "      <td>3</td>\n",
       "      <td>4</td>\n",
       "      <td>t</td>\n",
       "      <td>dttt</td>\n",
       "      <td>3</td>\n",
       "      <td>4</td>\n",
       "      <td>t</td>\n",
       "      <td>t</td>\n",
       "    </tr>\n",
       "    <tr>\n",
       "      <th>1</th>\n",
       "      <td>5</td>\n",
       "      <td>7</td>\n",
       "      <td>l</td>\n",
       "      <td>llmlqmblllh</td>\n",
       "      <td>6</td>\n",
       "      <td>11</td>\n",
       "      <td>q</td>\n",
       "      <td>b</td>\n",
       "    </tr>\n",
       "    <tr>\n",
       "      <th>2</th>\n",
       "      <td>3</td>\n",
       "      <td>10</td>\n",
       "      <td>g</td>\n",
       "      <td>gggxwxggggkgglklhhgg</td>\n",
       "      <td>11</td>\n",
       "      <td>20</td>\n",
       "      <td>g</td>\n",
       "      <td>g</td>\n",
       "    </tr>\n",
       "    <tr>\n",
       "      <th>3</th>\n",
       "      <td>5</td>\n",
       "      <td>7</td>\n",
       "      <td>d</td>\n",
       "      <td>zxhddvxd</td>\n",
       "      <td>3</td>\n",
       "      <td>8</td>\n",
       "      <td>d</td>\n",
       "      <td>x</td>\n",
       "    </tr>\n",
       "    <tr>\n",
       "      <th>4</th>\n",
       "      <td>5</td>\n",
       "      <td>12</td>\n",
       "      <td>s</td>\n",
       "      <td>sgscssssphxs</td>\n",
       "      <td>7</td>\n",
       "      <td>12</td>\n",
       "      <td>s</td>\n",
       "      <td>s</td>\n",
       "    </tr>\n",
       "    <tr>\n",
       "      <th>...</th>\n",
       "      <td>...</td>\n",
       "      <td>...</td>\n",
       "      <td>...</td>\n",
       "      <td>...</td>\n",
       "      <td>...</td>\n",
       "      <td>...</td>\n",
       "      <td>...</td>\n",
       "      <td>...</td>\n",
       "    </tr>\n",
       "    <tr>\n",
       "      <th>995</th>\n",
       "      <td>8</td>\n",
       "      <td>12</td>\n",
       "      <td>l</td>\n",
       "      <td>lllllhlllvlllllll</td>\n",
       "      <td>15</td>\n",
       "      <td>17</td>\n",
       "      <td>l</td>\n",
       "      <td>l</td>\n",
       "    </tr>\n",
       "    <tr>\n",
       "      <th>996</th>\n",
       "      <td>4</td>\n",
       "      <td>13</td>\n",
       "      <td>g</td>\n",
       "      <td>gggwgjlvmqgdgfg</td>\n",
       "      <td>7</td>\n",
       "      <td>15</td>\n",
       "      <td>w</td>\n",
       "      <td>g</td>\n",
       "    </tr>\n",
       "    <tr>\n",
       "      <th>997</th>\n",
       "      <td>5</td>\n",
       "      <td>7</td>\n",
       "      <td>v</td>\n",
       "      <td>wvkkvbvcrvtvvmh</td>\n",
       "      <td>6</td>\n",
       "      <td>15</td>\n",
       "      <td>v</td>\n",
       "      <td>v</td>\n",
       "    </tr>\n",
       "    <tr>\n",
       "      <th>998</th>\n",
       "      <td>14</td>\n",
       "      <td>15</td>\n",
       "      <td>h</td>\n",
       "      <td>hhhhhhhhhhhhhjh</td>\n",
       "      <td>14</td>\n",
       "      <td>15</td>\n",
       "      <td>j</td>\n",
       "      <td>h</td>\n",
       "    </tr>\n",
       "    <tr>\n",
       "      <th>999</th>\n",
       "      <td>14</td>\n",
       "      <td>16</td>\n",
       "      <td>p</td>\n",
       "      <td>tpkppppppppppppppppp</td>\n",
       "      <td>18</td>\n",
       "      <td>20</td>\n",
       "      <td>p</td>\n",
       "      <td>p</td>\n",
       "    </tr>\n",
       "  </tbody>\n",
       "</table>\n",
       "<p>1000 rows × 8 columns</p>\n",
       "</div>"
      ],
      "text/plain": [
       "     min  max letter                    ww  count  lengte letter_1 letter_2\n",
       "0      3    4      t                  dttt      3       4        t        t\n",
       "1      5    7      l           llmlqmblllh      6      11        q        b\n",
       "2      3   10      g  gggxwxggggkgglklhhgg     11      20        g        g\n",
       "3      5    7      d              zxhddvxd      3       8        d        x\n",
       "4      5   12      s          sgscssssphxs      7      12        s        s\n",
       "..   ...  ...    ...                   ...    ...     ...      ...      ...\n",
       "995    8   12      l     lllllhlllvlllllll     15      17        l        l\n",
       "996    4   13      g       gggwgjlvmqgdgfg      7      15        w        g\n",
       "997    5    7      v       wvkkvbvcrvtvvmh      6      15        v        v\n",
       "998   14   15      h       hhhhhhhhhhhhhjh     14      15        j        h\n",
       "999   14   16      p  tpkppppppppppppppppp     18      20        p        p\n",
       "\n",
       "[1000 rows x 8 columns]"
      ]
     },
     "metadata": {},
     "output_type": "display_data"
    }
   ],
   "source": [
    "display(df)"
   ]
  },
  {
   "cell_type": "code",
   "execution_count": 14,
   "metadata": {},
   "outputs": [],
   "source": [
    "count = []\n",
    "for index, row in df.iterrows():\n",
    "    count.append(row['ww'].count(row['letter']))\n",
    "df['count'] = count"
   ]
  },
  {
   "cell_type": "code",
   "execution_count": 46,
   "metadata": {},
   "outputs": [],
   "source": [
    "result1 = len(df.loc[(df['count']>= df['min']) & (df['count'] <= df['max']),:])"
   ]
  },
  {
   "cell_type": "code",
   "execution_count": 47,
   "metadata": {},
   "outputs": [
    {
     "name": "stdout",
     "output_type": "stream",
     "text": [
      "586\n"
     ]
    }
   ],
   "source": [
    "print(result1)"
   ]
  },
  {
   "cell_type": "markdown",
   "metadata": {},
   "source": [
    "**Deel 2**"
   ]
  },
  {
   "cell_type": "code",
   "execution_count": 61,
   "metadata": {},
   "outputs": [],
   "source": [
    "lengte = []\n",
    "for index, row in df.iterrows():\n",
    "    lengte.append(len(row['ww']))\n",
    "df['lengte'] = lengte"
   ]
  },
  {
   "cell_type": "code",
   "execution_count": 65,
   "metadata": {},
   "outputs": [],
   "source": [
    "l1 = []\n",
    "l2 = []\n",
    "for index, row in df.iterrows():\n",
    "    l1.append(row['ww'][row['min'] - 1])\n",
    "    l2.append(row['ww'][row['max'] - 1])\n",
    "df['letter_1'] = l1\n",
    "df['letter_2'] = l2"
   ]
  },
  {
   "cell_type": "code",
   "execution_count": 74,
   "metadata": {},
   "outputs": [],
   "source": [
    "result2 = len(df.loc[(((df['letter'] == df['letter_1']) & (df['letter'] != df['letter_2'])) | ((df['letter'] != df['letter_1']) & (df['letter'] == df['letter_2']))),:])"
   ]
  },
  {
   "cell_type": "code",
   "execution_count": 75,
   "metadata": {},
   "outputs": [
    {
     "name": "stdout",
     "output_type": "stream",
     "text": [
      "352\n"
     ]
    }
   ],
   "source": [
    "print(result2)"
   ]
  },
  {
   "cell_type": "code",
   "execution_count": null,
   "metadata": {},
   "outputs": [],
   "source": []
  }
 ],
 "metadata": {
  "kernelspec": {
   "display_name": "Python 3",
   "language": "python",
   "name": "python3"
  },
  "language_info": {
   "codemirror_mode": {
    "name": "ipython",
    "version": 3
   },
   "file_extension": ".py",
   "mimetype": "text/x-python",
   "name": "python",
   "nbconvert_exporter": "python",
   "pygments_lexer": "ipython3",
   "version": "3.7.6"
  }
 },
 "nbformat": 4,
 "nbformat_minor": 4
}
