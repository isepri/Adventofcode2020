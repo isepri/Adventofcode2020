{
 "cells": [
  {
   "cell_type": "code",
   "execution_count": 1,
   "metadata": {},
   "outputs": [],
   "source": [
    "import pandas as pd\n",
    "import numpy as np\n",
    "import itertools"
   ]
  },
  {
   "cell_type": "code",
   "execution_count": 2,
   "metadata": {},
   "outputs": [],
   "source": [
    "df_text = pd.read_csv(\"input.txt\", names =['text'])"
   ]
  },
  {
   "cell_type": "markdown",
   "metadata": {},
   "source": [
    "**Deel 1**"
   ]
  },
  {
   "cell_type": "code",
   "execution_count": 3,
   "metadata": {},
   "outputs": [],
   "source": [
    "df_text['text'] = df_text['text'].str.replace('-', ' ')\n",
    "df_text['text'] = df_text['text'].str.replace(':', '')"
   ]
  },
  {
   "cell_type": "code",
   "execution_count": 4,
   "metadata": {},
   "outputs": [],
   "source": [
    "df = pd.DataFrame(df_text.text.str.split(expand=True))\n",
    "df.columns = ['min', 'max', 'letter', 'ww']\n",
    "df['min'] = pd.to_numeric(df['min'])\n",
    "df['max'] = pd.to_numeric(df['max'])"
   ]
  },
  {
   "cell_type": "code",
   "execution_count": 5,
   "metadata": {},
   "outputs": [],
   "source": [
    "count = []\n",
    "for index, row in df.iterrows():\n",
    "    count.append(row['ww'].count(row['letter']))\n",
    "df['count'] = count"
   ]
  },
  {
   "cell_type": "code",
   "execution_count": 6,
   "metadata": {},
   "outputs": [
    {
     "name": "stdout",
     "output_type": "stream",
     "text": [
      "586\n"
     ]
    }
   ],
   "source": [
    "print(len(df.loc[(df['count']>= df['min']) & (df['count'] <= df['max']),:]))"
   ]
  },
  {
   "cell_type": "markdown",
   "metadata": {},
   "source": [
    "**Deel 2**"
   ]
  },
  {
   "cell_type": "code",
   "execution_count": 7,
   "metadata": {},
   "outputs": [],
   "source": [
    "l1 = []\n",
    "l2 = []\n",
    "for index, row in df.iterrows():\n",
    "    l1.append(row['ww'][row['min'] - 1])\n",
    "    l2.append(row['ww'][row['max'] - 1])\n",
    "df['letter_1'] = l1\n",
    "df['letter_2'] = l2"
   ]
  },
  {
   "cell_type": "code",
   "execution_count": 8,
   "metadata": {},
   "outputs": [
    {
     "name": "stdout",
     "output_type": "stream",
     "text": [
      "352\n"
     ]
    }
   ],
   "source": [
    "print(len(df.loc[(((df['letter'] == df['letter_1']) & (df['letter'] != df['letter_2'])) | ((df['letter'] != df['letter_1']) & (df['letter'] == df['letter_2']))),:]))"
   ]
  }
 ],
 "metadata": {
  "kernelspec": {
   "display_name": "Python 3",
   "language": "python",
   "name": "python3"
  },
  "language_info": {
   "codemirror_mode": {
    "name": "ipython",
    "version": 3
   },
   "file_extension": ".py",
   "mimetype": "text/x-python",
   "name": "python",
   "nbconvert_exporter": "python",
   "pygments_lexer": "ipython3",
   "version": "3.7.6"
  }
 },
 "nbformat": 4,
 "nbformat_minor": 4
}
