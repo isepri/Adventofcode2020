{
 "cells": [
  {
   "cell_type": "code",
   "execution_count": 3,
   "metadata": {},
   "outputs": [],
   "source": [
    "import pandas as pd\n",
    "import numpy as np\n",
    "import itertools"
   ]
  },
  {
   "cell_type": "code",
   "execution_count": 4,
   "metadata": {},
   "outputs": [],
   "source": [
    "helling = pd.read_csv(\"input.txt\", names =['lijn'])"
   ]
  },
  {
   "cell_type": "markdown",
   "metadata": {},
   "source": [
    "**Deel 1**"
   ]
  },
  {
   "cell_type": "code",
   "execution_count": 5,
   "metadata": {},
   "outputs": [],
   "source": [
    "def tel_bomen(df, right, down):\n",
    "    df = df.iloc[::down].copy()\n",
    "    ar = np.arange(0, right* len(df.index), right)\n",
    "    df['positie'] = ar-((ar//len(df.lijn[0]))* len(df.lijn[0]))\n",
    "    l1 = []\n",
    "    for index, row in df.iterrows():\n",
    "        l1.append(row['lijn'][row['positie']])\n",
    "    df['ch'] = l1\n",
    "    bomen =len(df.loc[df['ch'] == \"#\"])\n",
    "    return(bomen)"
   ]
  },
  {
   "cell_type": "code",
   "execution_count": 6,
   "metadata": {},
   "outputs": [
    {
     "name": "stdout",
     "output_type": "stream",
     "text": [
      "276\n"
     ]
    }
   ],
   "source": [
    "bomen1 = tel_bomen(helling, 3, 1)\n",
    "print(bomen1)"
   ]
  },
  {
   "cell_type": "markdown",
   "metadata": {},
   "source": [
    "**Deel 2**"
   ]
  },
  {
   "cell_type": "code",
   "execution_count": 10,
   "metadata": {},
   "outputs": [
    {
     "name": "stdout",
     "output_type": "stream",
     "text": [
      "7812180000\n"
     ]
    }
   ],
   "source": [
    "result = bomen1*tel_bomen(helling, 1, 1)*tel_bomen(helling, 5, 1)*tel_bomen(helling, 7, 1)*tel_bomen(helling, 1, 2)\n",
    "print(result)"
   ]
  }
 ],
 "metadata": {
  "kernelspec": {
   "display_name": "Python 3",
   "language": "python",
   "name": "python3"
  },
  "language_info": {
   "codemirror_mode": {
    "name": "ipython",
    "version": 3
   },
   "file_extension": ".py",
   "mimetype": "text/x-python",
   "name": "python",
   "nbconvert_exporter": "python",
   "pygments_lexer": "ipython3",
   "version": "3.7.6"
  }
 },
 "nbformat": 4,
 "nbformat_minor": 4
}
