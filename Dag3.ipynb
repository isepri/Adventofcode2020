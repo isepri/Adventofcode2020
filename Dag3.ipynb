{
 "cells": [
  {
   "cell_type": "code",
   "execution_count": 3,
   "metadata": {},
   "outputs": [],
   "source": [
    "import pandas as pd\n",
    "import numpy as np\n",
    "import itertools"
   ]
  },
  {
   "cell_type": "code",
   "execution_count": 4,
   "metadata": {},
   "outputs": [],
   "source": [
    "helling = pd.read_csv(\"input.txt\", names =['lijn'])"
   ]
  },
  {
   "cell_type": "markdown",
   "metadata": {},
   "source": [
    "**Deel 1**"
   ]
  },
  {
   "cell_type": "code",
   "execution_count": 5,
   "metadata": {},
   "outputs": [],
   "source": [
    "\n",
    "def tel_bomen(df, right, down):\n",
    "    # selecteer de rijen waarop eventuele bomen geteld moeten worden. Bij down = 2 wordt dus telkens een rij overgeslagen.\n",
    "    df = df.iloc[::down].copy()\n",
    "    # bereken een array startend met 0, met stappen van 'right', die evenlang is als het aantal rijen in df.\n",
    "    # als de lijnstrings gewoon door zouden lopen, kan je voor elke rij het character nemen met het gegeven index in de string.\n",
    "    ar = np.arange(0, right* len(df.index), right)\n",
    "    # de lijnstrings zijn slechts 31 tekens lang, dus we kijken hoevaak die lengte in elk nummer in het array past, vermenigvuldigen\n",
    "    # dit met de lengte (31) en halen dit totaal van het array af. Als we nu rechts uit beeld sleeen, komen we links weer terug.\n",
    "    df['positie'] = ar-((ar//len(df.lijn[0]))* len(df.lijn[0]))\n",
    "    # kijk per rij welk character er staat op de gegeven positie in de string.\n",
    "    l1 = []\n",
    "    for index, row in df.iterrows():\n",
    "        l1.append(row['lijn'][row['positie']])\n",
    "    df['ch'] = l1\n",
    "    # tel het aantal bomen.\n",
    "    bomen =len(df.loc[df['ch'] == \"#\"])\n",
    "    return(bomen)"
   ]
  },
  {
   "cell_type": "code",
   "execution_count": 6,
   "metadata": {},
   "outputs": [
    {
     "name": "stdout",
     "output_type": "stream",
     "text": [
      "276\n"
     ]
    }
   ],
   "source": [
    "bomen1 = tel_bomen(helling, 3, 1)\n",
    "print(bomen1)"
   ]
  },
  {
   "cell_type": "markdown",
   "metadata": {},
   "source": [
    "**Deel 2**"
   ]
  },
  {
   "cell_type": "code",
   "execution_count": 10,
   "metadata": {},
   "outputs": [
    {
     "name": "stdout",
     "output_type": "stream",
     "text": [
      "7812180000\n"
     ]
    }
   ],
   "source": [
    "result = bomen1*tel_bomen(helling, 1, 1)*tel_bomen(helling, 5, 1)*tel_bomen(helling, 7, 1)*tel_bomen(helling, 1, 2)\n",
    "print(result)"
   ]
  }
 ],
 "metadata": {
  "kernelspec": {
   "display_name": "Python 3",
   "language": "python",
   "name": "python3"
  },
  "language_info": {
   "codemirror_mode": {
    "name": "ipython",
    "version": 3
   },
   "file_extension": ".py",
   "mimetype": "text/x-python",
   "name": "python",
   "nbconvert_exporter": "python",
   "pygments_lexer": "ipython3",
   "version": "3.7.6"
  }
 },
 "nbformat": 4,
 "nbformat_minor": 4
}
