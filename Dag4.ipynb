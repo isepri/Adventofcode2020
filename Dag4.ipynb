{
 "cells": [
  {
   "cell_type": "code",
   "execution_count": 1,
   "metadata": {},
   "outputs": [],
   "source": [
    "import pandas as pd\n",
    "import numpy as np\n",
    "import re"
   ]
  },
  {
   "cell_type": "code",
   "execution_count": 2,
   "metadata": {},
   "outputs": [],
   "source": [
    "#laad data\n",
    "with open('input.txt') as t:\n",
    "    text = t.read()"
   ]
  },
  {
   "cell_type": "markdown",
   "metadata": {},
   "source": [
    "**Deel 1**"
   ]
  },
  {
   "cell_type": "code",
   "execution_count": 3,
   "metadata": {},
   "outputs": [],
   "source": [
    "# maak een nieuw bestand met per regel opeenvogende waarden en een enter bij een witregel\n",
    "new = ''\n",
    "for line in text.split('\\n'):\n",
    "    # lege regel: voeg een enter toe\n",
    "    if line == '':\n",
    "        new += '\\n'\n",
    "    # voeg een spatie aan het einde toe voor het plakken van waarden die van verschillende regels komen\n",
    "    else:\n",
    "        new += line + ' ' \n",
    "# maak een lijst, een item is een paspoort (string)\n",
    "textlist = list(new.split('\\n'))"
   ]
  },
  {
   "cell_type": "code",
   "execution_count": 4,
   "metadata": {},
   "outputs": [],
   "source": [
    "lwb = []\n",
    "for line in textlist:\n",
    "    items = line.split()\n",
    "    # maak een dictonary per paspoort\n",
    "    wb = {}\n",
    "    for item in items:        \n",
    "        key, val = item.split(':')\n",
    "        wb[key] = val\n",
    "    #maak een lijst van deze dictonaries\n",
    "    lwb.append(wb.copy())\n",
    "# maak een dataframe met de categorieen als kolommen en de paspoorten als rijen\n",
    "df = pd.DataFrame(lwb)"
   ]
  },
  {
   "cell_type": "code",
   "execution_count": 5,
   "metadata": {},
   "outputs": [
    {
     "name": "stdout",
     "output_type": "stream",
     "text": [
      "Aantal geldige paspoorten: 264\n"
     ]
    }
   ],
   "source": [
    "# verwijder de optionele 'cid' kolom en verwijder de rijen met missende waarden in de overige kolommen\n",
    "df_valid = df.drop(\"cid\", 1).dropna()\n",
    "# tel het aantal geldige paspoorten\n",
    "print(f'Aantal geldige paspoorten: {len(df_valid.index)}')"
   ]
  },
  {
   "cell_type": "markdown",
   "metadata": {},
   "source": [
    "**Deel 2**"
   ]
  },
  {
   "cell_type": "code",
   "execution_count": 6,
   "metadata": {},
   "outputs": [],
   "source": [
    "# defineer functie voor de jaartal condities\n",
    "df_check = df_valid.copy()\n",
    "def test_rules(column, length, minv, maxv):\n",
    "    li = []\n",
    "    for item in column:\n",
    "        rules = [len(item) == length, pd.to_numeric(item) >= minv, pd.to_numeric(item) <= maxv]\n",
    "        if all(rules):\n",
    "            li.append(True)\n",
    "        else: \n",
    "            li.append(False)\n",
    "    return(li)"
   ]
  },
  {
   "cell_type": "code",
   "execution_count": 7,
   "metadata": {},
   "outputs": [],
   "source": [
    "# byr (Birth Year) - four digits; at least 1920 and at most 2002.\n",
    "# iyr (Issue Year) - four digits; at least 2010 and at most 2020.\n",
    "# eyr (Expiration Year) - four digits; at least 2020 and at most 2030.\n",
    "\n",
    "df_check['byr'] = test_rules(df_valid['byr'], 4, 1920, 2002)\n",
    "df_check['iyr'] = test_rules(df_valid['iyr'], 4, 2010, 2020)\n",
    "df_check['eyr'] = test_rules(df_valid['eyr'], 4, 2020, 2030)"
   ]
  },
  {
   "cell_type": "code",
   "execution_count": 23,
   "metadata": {},
   "outputs": [],
   "source": [
    "# hgt (Height) - a number followed by either cm or in:\n",
    "#     If cm, the number must be at least 150 and at most 193.\n",
    "#     If in, the number must be at least 59 and at most 76.\n",
    "    \n",
    "r = []\n",
    "for item in df_valid['hgt']:\n",
    "    s = re.split('(cm|in)', item)\n",
    "    if len(s) >= 2:\n",
    "        if ((s[1] == 'cm') & ((int(s[0]) >= 150) & (int(s[0]) <= 193))):\n",
    "                r.append(True)\n",
    "        elif ((s[1] == 'in') & ((int(s[0]) >= 59) & (int(s[0]) <= 76))):\n",
    "                r.append(True)\n",
    "        else:\n",
    "                r.append(False)\n",
    "    else:\n",
    "            r.append(False)\n",
    "df_check['hgt'] = r"
   ]
  },
  {
   "cell_type": "code",
   "execution_count": 17,
   "metadata": {},
   "outputs": [],
   "source": [
    "# hcl (Hair Color) - a # followed by exactly six characters 0-9 or a-f.\n",
    "hcl_re = r'(^#[0-9a-z]{6}$)'\n",
    "df_check['hcl'] = pd.isna(df_valid['hcl'].str.extract(hcl_re)) == False"
   ]
  },
  {
   "cell_type": "code",
   "execution_count": 18,
   "metadata": {},
   "outputs": [],
   "source": [
    "# ecl (Eye Color) - exactly one of: amb blu brn gry grn hzl oth.\n",
    "ecl_re = r'(amb|blu|brn|gry|grn|hzl|oth)'\n",
    "df_check['ecl'] = pd.isna(df_valid['ecl'].str.extract(ecl_re)) == False"
   ]
  },
  {
   "cell_type": "code",
   "execution_count": 19,
   "metadata": {},
   "outputs": [],
   "source": [
    "# pid (Passport ID) - a nine-digit number, including leading zeroes.\n",
    "pid_re = r'(^\\d{9}$)'\n",
    "df_check['pid'] = pd.isna(df_valid['pid'].str.extract(pid_re)) == False"
   ]
  },
  {
   "cell_type": "code",
   "execution_count": 20,
   "metadata": {},
   "outputs": [
    {
     "name": "stdout",
     "output_type": "stream",
     "text": [
      "Aantal geldige paspoorten: 224\n"
     ]
    }
   ],
   "source": [
    "# tel rijen waar alle waarden 'True' zijn (true = 1, dus gemiddelde is dan 1)\n",
    "print(f'Aantal geldige paspoorten: {len(df_check.loc[df_check.mean(axis = 1) == 1,:])}')\n"
   ]
  }
 ],
 "metadata": {
  "kernelspec": {
   "display_name": "Python 3",
   "language": "python",
   "name": "python3"
  },
  "language_info": {
   "codemirror_mode": {
    "name": "ipython",
    "version": 3
   },
   "file_extension": ".py",
   "mimetype": "text/x-python",
   "name": "python",
   "nbconvert_exporter": "python",
   "pygments_lexer": "ipython3",
   "version": "3.7.6"
  }
 },
 "nbformat": 4,
 "nbformat_minor": 4
}
