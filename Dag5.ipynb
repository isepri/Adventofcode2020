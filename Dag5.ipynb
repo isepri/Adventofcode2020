{
 "cells": [
  {
   "cell_type": "code",
   "execution_count": 1,
   "metadata": {},
   "outputs": [],
   "source": [
    "import pandas as pd"
   ]
  },
  {
   "cell_type": "code",
   "execution_count": 2,
   "metadata": {},
   "outputs": [],
   "source": [
    "#laad data\n",
    "with open('input.txt') as t:\n",
    "    text = t.read()"
   ]
  },
  {
   "cell_type": "markdown",
   "metadata": {},
   "source": [
    "**Deel 1**"
   ]
  },
  {
   "cell_type": "code",
   "execution_count": 3,
   "metadata": {},
   "outputs": [],
   "source": [
    "df = pd.read_csv(\"input.txt\", names =['tekst'])"
   ]
  },
  {
   "cell_type": "code",
   "execution_count": 4,
   "metadata": {},
   "outputs": [],
   "source": [
    "def bereken_nummer(reeks, lengte, letter_voor, letter_achter):\n",
    "    sel = lengte\n",
    "    for letter in reeks:\n",
    "        half = len(sel)//2\n",
    "        if letter == letter_voor:\n",
    "            sel = sel[:half]\n",
    "        elif letter == letter_achter:\n",
    "            sel = sel[half:]\n",
    "        else:\n",
    "            print(f\"{letter} Onverwachte letter\")\n",
    "            break\n",
    "    return (sel[0])"
   ]
  },
  {
   "cell_type": "code",
   "execution_count": 5,
   "metadata": {},
   "outputs": [],
   "source": [
    "df['rij'] = df['tekst'].str.slice(stop=7).apply(bereken_nummer, args=(list(range(0,128)), 'F', 'B'))\n",
    "df['kolom'] = df['tekst'].str.slice(start=7).apply(bereken_nummer, args=(list(range(0,8)), 'L', 'R'))\n",
    "df['ID'] = (df['rij'] * 8) + df['kolom']"
   ]
  },
  {
   "cell_type": "code",
   "execution_count": 6,
   "metadata": {},
   "outputs": [
    {
     "name": "stdout",
     "output_type": "stream",
     "text": [
      "Hoogste ID: 976\n"
     ]
    }
   ],
   "source": [
    "print(f'Hoogste ID: {df[\"ID\"].max()}')"
   ]
  },
  {
   "cell_type": "markdown",
   "metadata": {},
   "source": [
    "**Deel 2**\n"
   ]
  },
  {
   "cell_type": "code",
   "execution_count": 17,
   "metadata": {},
   "outputs": [
    {
     "name": "stdout",
     "output_type": "stream",
     "text": [
      "Je stoelID is: {685}\n"
     ]
    }
   ],
   "source": [
    "mogelijkerij = df.loc[(df['rij'] != df['rij'].min()) & (df['rij'] != df['rij'].max()),:]\n",
    "mogelijkeID =set(range(mogelijkerij[\"ID\"].min(), mogelijkerij[\"ID\"].max()+1))\n",
    "ID = mogelijkeID.difference(mogelijkerij[\"ID\"])\n",
    "print(f'Je stoelID is: {ID}')"
   ]
  },
  {
   "cell_type": "code",
   "execution_count": null,
   "metadata": {},
   "outputs": [],
   "source": []
  }
 ],
 "metadata": {
  "kernelspec": {
   "display_name": "Python 3",
   "language": "python",
   "name": "python3"
  },
  "language_info": {
   "codemirror_mode": {
    "name": "ipython",
    "version": 3
   },
   "file_extension": ".py",
   "mimetype": "text/x-python",
   "name": "python",
   "nbconvert_exporter": "python",
   "pygments_lexer": "ipython3",
   "version": "3.7.6"
  }
 },
 "nbformat": 4,
 "nbformat_minor": 4
}
