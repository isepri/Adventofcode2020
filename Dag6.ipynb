{
 "cells": [
  {
   "cell_type": "code",
   "execution_count": 1,
   "metadata": {},
   "outputs": [],
   "source": [
    "import pandas as pd"
   ]
  },
  {
   "cell_type": "markdown",
   "metadata": {},
   "source": [
    "**Deel 1**"
   ]
  },
  {
   "cell_type": "code",
   "execution_count": 2,
   "metadata": {},
   "outputs": [],
   "source": [
    "#laad data\n",
    "with open('input.txt') as t:\n",
    "    text = t.read()"
   ]
  },
  {
   "cell_type": "code",
   "execution_count": 3,
   "metadata": {},
   "outputs": [],
   "source": [
    "new = ''\n",
    "groepsgrootte = []\n",
    "tel = 0\n",
    "\n",
    "for line in text.split('\\n'):\n",
    "    if line == '':\n",
    "        new += '\\n'\n",
    "        groepsgrootte.append(tel)\n",
    "        tel = 0\n",
    "    else:\n",
    "        tel+= 1\n",
    "        new += line + '' \n",
    "textlist = list(new.split('\\n'))\n",
    "textlist = textlist[:-1]"
   ]
  },
  {
   "cell_type": "code",
   "execution_count": 4,
   "metadata": {},
   "outputs": [],
   "source": [
    "uniek = [len(set(string)) for string in textlist]"
   ]
  },
  {
   "cell_type": "code",
   "execution_count": 5,
   "metadata": {},
   "outputs": [
    {
     "name": "stdout",
     "output_type": "stream",
     "text": [
      "Totaal aantal unieke letters per regel: 6310.\n"
     ]
    }
   ],
   "source": [
    "print(f'Totaal aantal unieke letters per regel: {sum(uniek)}.')"
   ]
  },
  {
   "cell_type": "markdown",
   "metadata": {},
   "source": [
    "**Deel 2**"
   ]
  },
  {
   "cell_type": "code",
   "execution_count": 6,
   "metadata": {},
   "outputs": [],
   "source": [
    "df = pd.DataFrame({'antwoorden': textlist, 'groep': groepsgrootte})"
   ]
  },
  {
   "cell_type": "code",
   "execution_count": 7,
   "metadata": {},
   "outputs": [],
   "source": [
    "aantal = []\n",
    "wb = []\n",
    "for index, row in df.iterrows():\n",
    "    d = dict.fromkeys(row['antwoorden'], 0)\n",
    "    for ch in row['antwoorden']:\n",
    "        d[ch] += 1\n",
    "    wb.append(d)\n",
    "    aantal.append(sum(value == row['groep'] for value in d.values()))\n",
    "df['dict'] = wb\n",
    "df['aantal_allen'] = aantal"
   ]
  },
  {
   "cell_type": "code",
   "execution_count": 8,
   "metadata": {},
   "outputs": [
    {
     "name": "stdout",
     "output_type": "stream",
     "text": [
      "Totaal aantal gelijke antwoorden per groep: 3193.\n"
     ]
    }
   ],
   "source": [
    "print(f'Totaal aantal gelijke antwoorden per groep: {sum(df[\"aantal_allen\"])}.')"
   ]
  },
  {
   "cell_type": "code",
   "execution_count": null,
   "metadata": {},
   "outputs": [],
   "source": []
  }
 ],
 "metadata": {
  "kernelspec": {
   "display_name": "Python 3",
   "language": "python",
   "name": "python3"
  },
  "language_info": {
   "codemirror_mode": {
    "name": "ipython",
    "version": 3
   },
   "file_extension": ".py",
   "mimetype": "text/x-python",
   "name": "python",
   "nbconvert_exporter": "python",
   "pygments_lexer": "ipython3",
   "version": "3.7.6"
  }
 },
 "nbformat": 4,
 "nbformat_minor": 4
}
