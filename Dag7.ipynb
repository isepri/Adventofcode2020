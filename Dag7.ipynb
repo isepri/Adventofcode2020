{
 "cells": [
  {
   "cell_type": "code",
   "execution_count": 1,
   "metadata": {},
   "outputs": [],
   "source": [
    "import re"
   ]
  },
  {
   "cell_type": "code",
   "execution_count": 2,
   "metadata": {},
   "outputs": [],
   "source": [
    "with open('input.txt') as t:\n",
    "    text = t.read().splitlines()"
   ]
  },
  {
   "cell_type": "code",
   "execution_count": 3,
   "metadata": {},
   "outputs": [],
   "source": [
    "kleuren1 = [re.compile(r\"\\.| bags| bag\").sub(\"\", m) for m in text]\n",
    "kleuren = [re.compile(r\" no \").sub(\" 0 \", m) for m in kleuren1]"
   ]
  },
  {
   "cell_type": "code",
   "execution_count": 4,
   "metadata": {},
   "outputs": [],
   "source": [
    "keys = [part[0] for part in [x.split(\" contain \") for x in kleuren]]\n",
    "values  = [part[1] for part in [x.split(\" contain \") for x in kleuren]]\n",
    "wb = dict(zip(keys, values))"
   ]
  },
  {
   "cell_type": "markdown",
   "metadata": {},
   "source": [
    "**Deel 1**"
   ]
  },
  {
   "cell_type": "code",
   "execution_count": 5,
   "metadata": {},
   "outputs": [],
   "source": [
    "def vindkleuren(regels, startkleur):\n",
    "    unieketassen = []\n",
    "    ronde = [startkleur]\n",
    "    while len(ronde) > 0:\n",
    "        nieuw = ronde\n",
    "        ronde = []\n",
    "        for tas in nieuw:\n",
    "            past_in = {key:val for key,val in regels if tas in val}\n",
    "            ronde +=  [x for x in past_in if x not in (unieketassen)]\n",
    "        unieketassen += ronde\n",
    "        unieketassen = list(set(unieketassen))            \n",
    "    return unieketassen"
   ]
  },
  {
   "cell_type": "code",
   "execution_count": 6,
   "metadata": {},
   "outputs": [
    {
     "data": {
      "text/plain": [
       "355"
      ]
     },
     "execution_count": 6,
     "metadata": {},
     "output_type": "execute_result"
    }
   ],
   "source": [
    "len(vindkleuren(wb.items(), 'shiny gold'))"
   ]
  },
  {
   "cell_type": "markdown",
   "metadata": {},
   "source": [
    "**Deel 2**"
   ]
  },
  {
   "cell_type": "code",
   "execution_count": 7,
   "metadata": {},
   "outputs": [],
   "source": [
    "def teltassen(regels, startkleur):\n",
    "    tassen = []\n",
    "    ronde = [startkleur]\n",
    "    while len(ronde) > 0:\n",
    "        nieuw = ronde\n",
    "        ronde = []\n",
    "        for tas in nieuw:\n",
    "            bevat = {val for key,val in regels if tas in key}\n",
    "            s_kleur = [x.split(\", \") for x in bevat]\n",
    "            for kleur in s_kleur[0]:\n",
    "                aantal = int(kleur.split(\" \",1)[0]) * [kleur.split(\" \",1)[1]]  \n",
    "                ronde += aantal\n",
    "        tassen += ronde           \n",
    "    return tassen"
   ]
  },
  {
   "cell_type": "code",
   "execution_count": 8,
   "metadata": {},
   "outputs": [
    {
     "data": {
      "text/plain": [
       "5312"
      ]
     },
     "execution_count": 8,
     "metadata": {},
     "output_type": "execute_result"
    }
   ],
   "source": [
    "len(teltassen(wb.items(), 'shiny gold'))"
   ]
  },
  {
   "cell_type": "code",
   "execution_count": null,
   "metadata": {},
   "outputs": [],
   "source": []
  }
 ],
 "metadata": {
  "kernelspec": {
   "display_name": "Python 3",
   "language": "python",
   "name": "python3"
  },
  "language_info": {
   "codemirror_mode": {
    "name": "ipython",
    "version": 3
   },
   "file_extension": ".py",
   "mimetype": "text/x-python",
   "name": "python",
   "nbconvert_exporter": "python",
   "pygments_lexer": "ipython3",
   "version": "3.7.6"
  }
 },
 "nbformat": 4,
 "nbformat_minor": 4
}
