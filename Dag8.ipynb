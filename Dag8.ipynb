{
 "cells": [
  {
   "cell_type": "code",
   "execution_count": 1,
   "metadata": {},
   "outputs": [],
   "source": [
    "import pandas as pd"
   ]
  },
  {
   "cell_type": "code",
   "execution_count": 2,
   "metadata": {},
   "outputs": [],
   "source": [
    "df_text = pd.read_csv(\"input.txt\", names =['text'])"
   ]
  },
  {
   "cell_type": "code",
   "execution_count": 3,
   "metadata": {},
   "outputs": [],
   "source": [
    "prog = df_text['text'].str.split(\" \", n = 1, expand = True)\n",
    "prog.columns = ['actie', 'argument']\n",
    "prog['argument'] = prog['argument'].astype(int)\n",
    "prog['bezocht'] = False"
   ]
  },
  {
   "cell_type": "markdown",
   "metadata": {},
   "source": [
    "**Deel 1**"
   ]
  },
  {
   "cell_type": "code",
   "execution_count": 4,
   "metadata": {},
   "outputs": [],
   "source": [
    "def draaiprogramma(programma):\n",
    "    df = programma.copy()\n",
    "    acc = 0\n",
    "    i = 0\n",
    "    while df['bezocht'][i] == False:\n",
    "        df.iloc[i, 2] = True\n",
    "        if df['actie'][i] == 'acc':            \n",
    "            acc += df['argument'][i]\n",
    "            i += 1\n",
    "        elif df['actie'][i] == 'jmp':\n",
    "            i += df['argument'][i]\n",
    "        else:\n",
    "            i += 1\n",
    "        if i == len(df.index):\n",
    "            return(acc, True)\n",
    "        else:\n",
    "            pass\n",
    "    return(acc, False) "
   ]
  },
  {
   "cell_type": "code",
   "execution_count": 5,
   "metadata": {},
   "outputs": [
    {
     "name": "stdout",
     "output_type": "stream",
     "text": [
      "1766\n"
     ]
    }
   ],
   "source": [
    "accumulator, eindegehaald = draaiprogramma(prog)\n",
    "print(accumulator)"
   ]
  },
  {
   "cell_type": "markdown",
   "metadata": {},
   "source": [
    "**Deel 2**"
   ]
  },
  {
   "cell_type": "code",
   "execution_count": 6,
   "metadata": {},
   "outputs": [
    {
     "name": "stdout",
     "output_type": "stream",
     "text": [
      "1639\n"
     ]
    }
   ],
   "source": [
    "keuzes = {\n",
    "    'jmp' : 'nop',\n",
    "    'nop' : 'jmp',\n",
    "    'acc' : 'acc'\n",
    "}\n",
    "for index, row in prog.iterrows():\n",
    "    c = prog.copy()\n",
    "    c.iloc[index,0] = keuzes[row['actie']]\n",
    "    a, einde = draaiprogramma(c)\n",
    "    if einde == True:\n",
    "        print(a)\n",
    "        break\n",
    "    else:\n",
    "        pass"
   ]
  },
  {
   "cell_type": "code",
   "execution_count": null,
   "metadata": {},
   "outputs": [],
   "source": []
  }
 ],
 "metadata": {
  "kernelspec": {
   "display_name": "Python 3",
   "language": "python",
   "name": "python3"
  },
  "language_info": {
   "codemirror_mode": {
    "name": "ipython",
    "version": 3
   },
   "file_extension": ".py",
   "mimetype": "text/x-python",
   "name": "python",
   "nbconvert_exporter": "python",
   "pygments_lexer": "ipython3",
   "version": "3.7.6"
  }
 },
 "nbformat": 4,
 "nbformat_minor": 4
}
