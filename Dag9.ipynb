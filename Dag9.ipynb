{
 "cells": [
  {
   "cell_type": "code",
   "execution_count": 41,
   "metadata": {},
   "outputs": [],
   "source": [
    "import itertools"
   ]
  },
  {
   "cell_type": "code",
   "execution_count": 50,
   "metadata": {},
   "outputs": [],
   "source": [
    "with open('input.txt') as t:\n",
    "    data = t.read().splitlines()\n",
    "data = list(map(int, data))"
   ]
  },
  {
   "cell_type": "markdown",
   "metadata": {},
   "source": [
    "**Deel 1**"
   ]
  },
  {
   "cell_type": "code",
   "execution_count": 58,
   "metadata": {},
   "outputs": [],
   "source": [
    "def vindnummer(nummers, preamble):\n",
    "    i = 0   \n",
    "    eigenschap = True\n",
    "    while eigenschap == True:\n",
    "        num = nummers[preamble+i]\n",
    "        subset = nummers[i:preamble+i]\n",
    "        sommen = []\n",
    "        for combi in itertools.combinations(subset, 2):\n",
    "            sommen.append(sum(combi))\n",
    "        if num not in sommen:\n",
    "            eigenschap = False\n",
    "            return(num)\n",
    "        i += 1"
   ]
  },
  {
   "cell_type": "code",
   "execution_count": 60,
   "metadata": {},
   "outputs": [
    {
     "name": "stdout",
     "output_type": "stream",
     "text": [
      "258585477\n"
     ]
    }
   ],
   "source": [
    "nummer = vindnummer(data, 25)\n",
    "print(nummer)"
   ]
  },
  {
   "cell_type": "markdown",
   "metadata": {},
   "source": [
    "**Deel 2**"
   ]
  },
  {
   "cell_type": "code",
   "execution_count": 64,
   "metadata": {},
   "outputs": [],
   "source": [
    "def vindcombis(nummers):\n",
    "    n = len(nummers)\n",
    "    indices = list(range(n+1))\n",
    "    for i,j in itertools.combinations(indices,2):\n",
    "        yield nummers[i:j]"
   ]
  },
  {
   "cell_type": "code",
   "execution_count": 73,
   "metadata": {},
   "outputs": [
    {
     "name": "stdout",
     "output_type": "stream",
     "text": [
      "[13858643, 9455395, 9908827, 16794010, 13221299, 11563238, 12646458, 11137204, 11774548, 12220424, 14302571, 14304519, 14748447, 25865809, 22680253, 16578014, 27525818]\n",
      "36981213\n"
     ]
    }
   ],
   "source": [
    "for combi in list(vindcombis(data)):\n",
    "    if sum(combi) == nummer:\n",
    "        print(min(combi) + max(combi))\n",
    "        break"
   ]
  },
  {
   "cell_type": "code",
   "execution_count": null,
   "metadata": {},
   "outputs": [],
   "source": []
  }
 ],
 "metadata": {
  "kernelspec": {
   "display_name": "Python 3",
   "language": "python",
   "name": "python3"
  },
  "language_info": {
   "codemirror_mode": {
    "name": "ipython",
    "version": 3
   },
   "file_extension": ".py",
   "mimetype": "text/x-python",
   "name": "python",
   "nbconvert_exporter": "python",
   "pygments_lexer": "ipython3",
   "version": "3.7.6"
  }
 },
 "nbformat": 4,
 "nbformat_minor": 4
}
